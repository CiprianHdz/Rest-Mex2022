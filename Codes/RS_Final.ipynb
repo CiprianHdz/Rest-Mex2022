{
  "nbformat": 4,
  "nbformat_minor": 0,
  "metadata": {
    "colab": {
      "name": "RS_Final.ipynb",
      "provenance": [],
      "collapsed_sections": [
        "ViYvPoWpjK1e",
        "MdsK91lFUC2N"
      ]
    },
    "kernelspec": {
      "name": "python3",
      "display_name": "Python 3"
    },
    "language_info": {
      "name": "python"
    },
    "accelerator": "GPU"
  },
  "cells": [
    {
      "cell_type": "markdown",
      "source": [
        "Nota: Hay que cargar los datos rs_datosfinal.csv y test_final.csv manualmente."
      ],
      "metadata": {
        "id": "hqJUScr-1kVQ"
      }
    },
    {
      "cell_type": "markdown",
      "source": [
        "# Cargamos los datos"
      ],
      "metadata": {
        "id": "cvWSr0cJadrv"
      }
    },
    {
      "cell_type": "code",
      "source": [
        "import pandas as pd\n",
        "import numpy as np\n",
        "import matplotlib.pyplot as plt"
      ],
      "metadata": {
        "id": "gL7xNfZ0r0gi"
      },
      "execution_count": null,
      "outputs": []
    },
    {
      "cell_type": "code",
      "source": [
        "df_nuevo=pd.read_csv(r\"/content/sample_data/rs_datosfinal.csv\", sep=',',encoding='utf-8', engine =\"python\" )\n",
        "test_nuevo = pd.read_csv(r\"/content/sample_data/test_final.csv\", sep=',',encoding='utf-8', engine =\"python\" )"
      ],
      "metadata": {
        "id": "eJ9yc2MAadZv"
      },
      "execution_count": null,
      "outputs": []
    },
    {
      "cell_type": "code",
      "source": [
        "test_nuevo.head()"
      ],
      "metadata": {
        "colab": {
          "base_uri": "https://localhost:8080/",
          "height": 617
        },
        "id": "esDTFJ7jZTAw",
        "outputId": "2c67fce9-005a-4cd8-9f79-62acd433f4b8"
      },
      "execution_count": null,
      "outputs": [
        {
          "output_type": "execute_result",
          "data": {
            "text/plain": [
              "       Usuario                                            Opinion  Gender  \\\n",
              "0  Usuario1847  stayed penticton work march 12th happy stay. l...     1.0   \n",
              "1   Usuario600  atencion todo equipo labora las instalaciones ...     0.0   \n",
              "2   Usuario687  ostello bello grande quite simple without comp...     1.0   \n",
              "3  Usuario1219  desconocido para haber sido primera vez visité...     1.0   \n",
              "4  Usuario1835  ostello bello grande quite simple without comp...     0.0   \n",
              "\n",
              "   Type  Location                Place  MeanLabel  GlobalLabel  \\\n",
              "0   0.0       0.0  The Jazz Foundation          4            4   \n",
              "1   3.0       1.0       Islas Marietas          5            4   \n",
              "2   3.0       0.0       Islas Marietas          5            5   \n",
              "3   0.0       1.0       Islas Marietas          4            4   \n",
              "4   0.0       1.0    Splash Water Park          5            5   \n",
              "\n",
              "                                          info_lugar  Description  \n",
              "0  Recurrimos al Jazz al arte y la cultura como l...            2  \n",
              "1  El Parque Nacional Islas Marietas son dos isla...            1  \n",
              "2  El Parque Nacional Islas Marietas son dos isla...            1  \n",
              "3  El Parque Nacional Islas Marietas son dos isla...            1  \n",
              "4  Precios increíbles y sin cargos. Ahorra. La má...            1  "
            ],
            "text/html": [
              "\n",
              "  <div id=\"df-bfdca40f-b5b3-4548-b8b2-d6c881c45b23\">\n",
              "    <div class=\"colab-df-container\">\n",
              "      <div>\n",
              "<style scoped>\n",
              "    .dataframe tbody tr th:only-of-type {\n",
              "        vertical-align: middle;\n",
              "    }\n",
              "\n",
              "    .dataframe tbody tr th {\n",
              "        vertical-align: top;\n",
              "    }\n",
              "\n",
              "    .dataframe thead th {\n",
              "        text-align: right;\n",
              "    }\n",
              "</style>\n",
              "<table border=\"1\" class=\"dataframe\">\n",
              "  <thead>\n",
              "    <tr style=\"text-align: right;\">\n",
              "      <th></th>\n",
              "      <th>Usuario</th>\n",
              "      <th>Opinion</th>\n",
              "      <th>Gender</th>\n",
              "      <th>Type</th>\n",
              "      <th>Location</th>\n",
              "      <th>Place</th>\n",
              "      <th>MeanLabel</th>\n",
              "      <th>GlobalLabel</th>\n",
              "      <th>info_lugar</th>\n",
              "      <th>Description</th>\n",
              "    </tr>\n",
              "  </thead>\n",
              "  <tbody>\n",
              "    <tr>\n",
              "      <th>0</th>\n",
              "      <td>Usuario1847</td>\n",
              "      <td>stayed penticton work march 12th happy stay. l...</td>\n",
              "      <td>1.0</td>\n",
              "      <td>0.0</td>\n",
              "      <td>0.0</td>\n",
              "      <td>The Jazz Foundation</td>\n",
              "      <td>4</td>\n",
              "      <td>4</td>\n",
              "      <td>Recurrimos al Jazz al arte y la cultura como l...</td>\n",
              "      <td>2</td>\n",
              "    </tr>\n",
              "    <tr>\n",
              "      <th>1</th>\n",
              "      <td>Usuario600</td>\n",
              "      <td>atencion todo equipo labora las instalaciones ...</td>\n",
              "      <td>0.0</td>\n",
              "      <td>3.0</td>\n",
              "      <td>1.0</td>\n",
              "      <td>Islas Marietas</td>\n",
              "      <td>5</td>\n",
              "      <td>4</td>\n",
              "      <td>El Parque Nacional Islas Marietas son dos isla...</td>\n",
              "      <td>1</td>\n",
              "    </tr>\n",
              "    <tr>\n",
              "      <th>2</th>\n",
              "      <td>Usuario687</td>\n",
              "      <td>ostello bello grande quite simple without comp...</td>\n",
              "      <td>1.0</td>\n",
              "      <td>3.0</td>\n",
              "      <td>0.0</td>\n",
              "      <td>Islas Marietas</td>\n",
              "      <td>5</td>\n",
              "      <td>5</td>\n",
              "      <td>El Parque Nacional Islas Marietas son dos isla...</td>\n",
              "      <td>1</td>\n",
              "    </tr>\n",
              "    <tr>\n",
              "      <th>3</th>\n",
              "      <td>Usuario1219</td>\n",
              "      <td>desconocido para haber sido primera vez visité...</td>\n",
              "      <td>1.0</td>\n",
              "      <td>0.0</td>\n",
              "      <td>1.0</td>\n",
              "      <td>Islas Marietas</td>\n",
              "      <td>4</td>\n",
              "      <td>4</td>\n",
              "      <td>El Parque Nacional Islas Marietas son dos isla...</td>\n",
              "      <td>1</td>\n",
              "    </tr>\n",
              "    <tr>\n",
              "      <th>4</th>\n",
              "      <td>Usuario1835</td>\n",
              "      <td>ostello bello grande quite simple without comp...</td>\n",
              "      <td>0.0</td>\n",
              "      <td>0.0</td>\n",
              "      <td>1.0</td>\n",
              "      <td>Splash Water Park</td>\n",
              "      <td>5</td>\n",
              "      <td>5</td>\n",
              "      <td>Precios increíbles y sin cargos. Ahorra. La má...</td>\n",
              "      <td>1</td>\n",
              "    </tr>\n",
              "  </tbody>\n",
              "</table>\n",
              "</div>\n",
              "      <button class=\"colab-df-convert\" onclick=\"convertToInteractive('df-bfdca40f-b5b3-4548-b8b2-d6c881c45b23')\"\n",
              "              title=\"Convert this dataframe to an interactive table.\"\n",
              "              style=\"display:none;\">\n",
              "        \n",
              "  <svg xmlns=\"http://www.w3.org/2000/svg\" height=\"24px\"viewBox=\"0 0 24 24\"\n",
              "       width=\"24px\">\n",
              "    <path d=\"M0 0h24v24H0V0z\" fill=\"none\"/>\n",
              "    <path d=\"M18.56 5.44l.94 2.06.94-2.06 2.06-.94-2.06-.94-.94-2.06-.94 2.06-2.06.94zm-11 1L8.5 8.5l.94-2.06 2.06-.94-2.06-.94L8.5 2.5l-.94 2.06-2.06.94zm10 10l.94 2.06.94-2.06 2.06-.94-2.06-.94-.94-2.06-.94 2.06-2.06.94z\"/><path d=\"M17.41 7.96l-1.37-1.37c-.4-.4-.92-.59-1.43-.59-.52 0-1.04.2-1.43.59L10.3 9.45l-7.72 7.72c-.78.78-.78 2.05 0 2.83L4 21.41c.39.39.9.59 1.41.59.51 0 1.02-.2 1.41-.59l7.78-7.78 2.81-2.81c.8-.78.8-2.07 0-2.86zM5.41 20L4 18.59l7.72-7.72 1.47 1.35L5.41 20z\"/>\n",
              "  </svg>\n",
              "      </button>\n",
              "      \n",
              "  <style>\n",
              "    .colab-df-container {\n",
              "      display:flex;\n",
              "      flex-wrap:wrap;\n",
              "      gap: 12px;\n",
              "    }\n",
              "\n",
              "    .colab-df-convert {\n",
              "      background-color: #E8F0FE;\n",
              "      border: none;\n",
              "      border-radius: 50%;\n",
              "      cursor: pointer;\n",
              "      display: none;\n",
              "      fill: #1967D2;\n",
              "      height: 32px;\n",
              "      padding: 0 0 0 0;\n",
              "      width: 32px;\n",
              "    }\n",
              "\n",
              "    .colab-df-convert:hover {\n",
              "      background-color: #E2EBFA;\n",
              "      box-shadow: 0px 1px 2px rgba(60, 64, 67, 0.3), 0px 1px 3px 1px rgba(60, 64, 67, 0.15);\n",
              "      fill: #174EA6;\n",
              "    }\n",
              "\n",
              "    [theme=dark] .colab-df-convert {\n",
              "      background-color: #3B4455;\n",
              "      fill: #D2E3FC;\n",
              "    }\n",
              "\n",
              "    [theme=dark] .colab-df-convert:hover {\n",
              "      background-color: #434B5C;\n",
              "      box-shadow: 0px 1px 3px 1px rgba(0, 0, 0, 0.15);\n",
              "      filter: drop-shadow(0px 1px 2px rgba(0, 0, 0, 0.3));\n",
              "      fill: #FFFFFF;\n",
              "    }\n",
              "  </style>\n",
              "\n",
              "      <script>\n",
              "        const buttonEl =\n",
              "          document.querySelector('#df-bfdca40f-b5b3-4548-b8b2-d6c881c45b23 button.colab-df-convert');\n",
              "        buttonEl.style.display =\n",
              "          google.colab.kernel.accessAllowed ? 'block' : 'none';\n",
              "\n",
              "        async function convertToInteractive(key) {\n",
              "          const element = document.querySelector('#df-bfdca40f-b5b3-4548-b8b2-d6c881c45b23');\n",
              "          const dataTable =\n",
              "            await google.colab.kernel.invokeFunction('convertToInteractive',\n",
              "                                                     [key], {});\n",
              "          if (!dataTable) return;\n",
              "\n",
              "          const docLinkHtml = 'Like what you see? Visit the ' +\n",
              "            '<a target=\"_blank\" href=https://colab.research.google.com/notebooks/data_table.ipynb>data table notebook</a>'\n",
              "            + ' to learn more about interactive tables.';\n",
              "          element.innerHTML = '';\n",
              "          dataTable['output_type'] = 'display_data';\n",
              "          await google.colab.output.renderOutput(dataTable, element);\n",
              "          const docLink = document.createElement('div');\n",
              "          docLink.innerHTML = docLinkHtml;\n",
              "          element.appendChild(docLink);\n",
              "        }\n",
              "      </script>\n",
              "    </div>\n",
              "  </div>\n",
              "  "
            ]
          },
          "metadata": {},
          "execution_count": 97
        }
      ]
    },
    {
      "cell_type": "code",
      "source": [
        "df_nuevo.head()"
      ],
      "metadata": {
        "colab": {
          "base_uri": "https://localhost:8080/",
          "height": 669
        },
        "id": "uU-ClI2-4QNp",
        "outputId": "32bfb34e-62a3-4d3a-8423-ec8d014b3b2e"
      },
      "execution_count": null,
      "outputs": [
        {
          "output_type": "execute_result",
          "data": {
            "text/plain": [
              "       Usuario                                            Opinion  Gender  \\\n",
              "0  Usuario1617  siempre ha agradado comida este lugar, atenció...       0   \n",
              "1  Usuario1867  got home 2 weeks puntarena. hotel good value! ...       0   \n",
              "2  Usuario1038  siempre hay gente sonriente dispuesta ayudar t...       0   \n",
              "3  Usuario1000  friend celebrated mother's day barcelona tapas...       0   \n",
              "4  Usuario1210  llegamos al hotel día domingo estuvimos una se...       1   \n",
              "\n",
              "   Type  Label  Location                        Place  MeanLabel  GlobalLabel  \\\n",
              "0     0      3         1  Mercado del Pueblo Sayulita          4            4   \n",
              "1     0      5         0            Playa Los Muertos          5            4   \n",
              "2     3      4         0               Islas Marietas          5            4   \n",
              "3     3      3         0               Islas Marietas          5            5   \n",
              "4     3      4         0               Islas Marietas          5            4   \n",
              "\n",
              "                                          info_lugar  Description  \n",
              "0  Desde 2009 el Mercado del Pueblo el mercado de...            2  \n",
              "1  En Puerto Vallarta cerca del Río Cuale a unos ...            1  \n",
              "2  El Parque Nacional Islas Marietas son dos isla...            1  \n",
              "3  El Parque Nacional Islas Marietas son dos isla...            1  \n",
              "4  El Parque Nacional Islas Marietas son dos isla...            1  "
            ],
            "text/html": [
              "\n",
              "  <div id=\"df-5e1f0e0a-3f0a-4e89-87e4-678b4c971604\">\n",
              "    <div class=\"colab-df-container\">\n",
              "      <div>\n",
              "<style scoped>\n",
              "    .dataframe tbody tr th:only-of-type {\n",
              "        vertical-align: middle;\n",
              "    }\n",
              "\n",
              "    .dataframe tbody tr th {\n",
              "        vertical-align: top;\n",
              "    }\n",
              "\n",
              "    .dataframe thead th {\n",
              "        text-align: right;\n",
              "    }\n",
              "</style>\n",
              "<table border=\"1\" class=\"dataframe\">\n",
              "  <thead>\n",
              "    <tr style=\"text-align: right;\">\n",
              "      <th></th>\n",
              "      <th>Usuario</th>\n",
              "      <th>Opinion</th>\n",
              "      <th>Gender</th>\n",
              "      <th>Type</th>\n",
              "      <th>Label</th>\n",
              "      <th>Location</th>\n",
              "      <th>Place</th>\n",
              "      <th>MeanLabel</th>\n",
              "      <th>GlobalLabel</th>\n",
              "      <th>info_lugar</th>\n",
              "      <th>Description</th>\n",
              "    </tr>\n",
              "  </thead>\n",
              "  <tbody>\n",
              "    <tr>\n",
              "      <th>0</th>\n",
              "      <td>Usuario1617</td>\n",
              "      <td>siempre ha agradado comida este lugar, atenció...</td>\n",
              "      <td>0</td>\n",
              "      <td>0</td>\n",
              "      <td>3</td>\n",
              "      <td>1</td>\n",
              "      <td>Mercado del Pueblo Sayulita</td>\n",
              "      <td>4</td>\n",
              "      <td>4</td>\n",
              "      <td>Desde 2009 el Mercado del Pueblo el mercado de...</td>\n",
              "      <td>2</td>\n",
              "    </tr>\n",
              "    <tr>\n",
              "      <th>1</th>\n",
              "      <td>Usuario1867</td>\n",
              "      <td>got home 2 weeks puntarena. hotel good value! ...</td>\n",
              "      <td>0</td>\n",
              "      <td>0</td>\n",
              "      <td>5</td>\n",
              "      <td>0</td>\n",
              "      <td>Playa Los Muertos</td>\n",
              "      <td>5</td>\n",
              "      <td>4</td>\n",
              "      <td>En Puerto Vallarta cerca del Río Cuale a unos ...</td>\n",
              "      <td>1</td>\n",
              "    </tr>\n",
              "    <tr>\n",
              "      <th>2</th>\n",
              "      <td>Usuario1038</td>\n",
              "      <td>siempre hay gente sonriente dispuesta ayudar t...</td>\n",
              "      <td>0</td>\n",
              "      <td>3</td>\n",
              "      <td>4</td>\n",
              "      <td>0</td>\n",
              "      <td>Islas Marietas</td>\n",
              "      <td>5</td>\n",
              "      <td>4</td>\n",
              "      <td>El Parque Nacional Islas Marietas son dos isla...</td>\n",
              "      <td>1</td>\n",
              "    </tr>\n",
              "    <tr>\n",
              "      <th>3</th>\n",
              "      <td>Usuario1000</td>\n",
              "      <td>friend celebrated mother's day barcelona tapas...</td>\n",
              "      <td>0</td>\n",
              "      <td>3</td>\n",
              "      <td>3</td>\n",
              "      <td>0</td>\n",
              "      <td>Islas Marietas</td>\n",
              "      <td>5</td>\n",
              "      <td>5</td>\n",
              "      <td>El Parque Nacional Islas Marietas son dos isla...</td>\n",
              "      <td>1</td>\n",
              "    </tr>\n",
              "    <tr>\n",
              "      <th>4</th>\n",
              "      <td>Usuario1210</td>\n",
              "      <td>llegamos al hotel día domingo estuvimos una se...</td>\n",
              "      <td>1</td>\n",
              "      <td>3</td>\n",
              "      <td>4</td>\n",
              "      <td>0</td>\n",
              "      <td>Islas Marietas</td>\n",
              "      <td>5</td>\n",
              "      <td>4</td>\n",
              "      <td>El Parque Nacional Islas Marietas son dos isla...</td>\n",
              "      <td>1</td>\n",
              "    </tr>\n",
              "  </tbody>\n",
              "</table>\n",
              "</div>\n",
              "      <button class=\"colab-df-convert\" onclick=\"convertToInteractive('df-5e1f0e0a-3f0a-4e89-87e4-678b4c971604')\"\n",
              "              title=\"Convert this dataframe to an interactive table.\"\n",
              "              style=\"display:none;\">\n",
              "        \n",
              "  <svg xmlns=\"http://www.w3.org/2000/svg\" height=\"24px\"viewBox=\"0 0 24 24\"\n",
              "       width=\"24px\">\n",
              "    <path d=\"M0 0h24v24H0V0z\" fill=\"none\"/>\n",
              "    <path d=\"M18.56 5.44l.94 2.06.94-2.06 2.06-.94-2.06-.94-.94-2.06-.94 2.06-2.06.94zm-11 1L8.5 8.5l.94-2.06 2.06-.94-2.06-.94L8.5 2.5l-.94 2.06-2.06.94zm10 10l.94 2.06.94-2.06 2.06-.94-2.06-.94-.94-2.06-.94 2.06-2.06.94z\"/><path d=\"M17.41 7.96l-1.37-1.37c-.4-.4-.92-.59-1.43-.59-.52 0-1.04.2-1.43.59L10.3 9.45l-7.72 7.72c-.78.78-.78 2.05 0 2.83L4 21.41c.39.39.9.59 1.41.59.51 0 1.02-.2 1.41-.59l7.78-7.78 2.81-2.81c.8-.78.8-2.07 0-2.86zM5.41 20L4 18.59l7.72-7.72 1.47 1.35L5.41 20z\"/>\n",
              "  </svg>\n",
              "      </button>\n",
              "      \n",
              "  <style>\n",
              "    .colab-df-container {\n",
              "      display:flex;\n",
              "      flex-wrap:wrap;\n",
              "      gap: 12px;\n",
              "    }\n",
              "\n",
              "    .colab-df-convert {\n",
              "      background-color: #E8F0FE;\n",
              "      border: none;\n",
              "      border-radius: 50%;\n",
              "      cursor: pointer;\n",
              "      display: none;\n",
              "      fill: #1967D2;\n",
              "      height: 32px;\n",
              "      padding: 0 0 0 0;\n",
              "      width: 32px;\n",
              "    }\n",
              "\n",
              "    .colab-df-convert:hover {\n",
              "      background-color: #E2EBFA;\n",
              "      box-shadow: 0px 1px 2px rgba(60, 64, 67, 0.3), 0px 1px 3px 1px rgba(60, 64, 67, 0.15);\n",
              "      fill: #174EA6;\n",
              "    }\n",
              "\n",
              "    [theme=dark] .colab-df-convert {\n",
              "      background-color: #3B4455;\n",
              "      fill: #D2E3FC;\n",
              "    }\n",
              "\n",
              "    [theme=dark] .colab-df-convert:hover {\n",
              "      background-color: #434B5C;\n",
              "      box-shadow: 0px 1px 3px 1px rgba(0, 0, 0, 0.15);\n",
              "      filter: drop-shadow(0px 1px 2px rgba(0, 0, 0, 0.3));\n",
              "      fill: #FFFFFF;\n",
              "    }\n",
              "  </style>\n",
              "\n",
              "      <script>\n",
              "        const buttonEl =\n",
              "          document.querySelector('#df-5e1f0e0a-3f0a-4e89-87e4-678b4c971604 button.colab-df-convert');\n",
              "        buttonEl.style.display =\n",
              "          google.colab.kernel.accessAllowed ? 'block' : 'none';\n",
              "\n",
              "        async function convertToInteractive(key) {\n",
              "          const element = document.querySelector('#df-5e1f0e0a-3f0a-4e89-87e4-678b4c971604');\n",
              "          const dataTable =\n",
              "            await google.colab.kernel.invokeFunction('convertToInteractive',\n",
              "                                                     [key], {});\n",
              "          if (!dataTable) return;\n",
              "\n",
              "          const docLinkHtml = 'Like what you see? Visit the ' +\n",
              "            '<a target=\"_blank\" href=https://colab.research.google.com/notebooks/data_table.ipynb>data table notebook</a>'\n",
              "            + ' to learn more about interactive tables.';\n",
              "          element.innerHTML = '';\n",
              "          dataTable['output_type'] = 'display_data';\n",
              "          await google.colab.output.renderOutput(dataTable, element);\n",
              "          const docLink = document.createElement('div');\n",
              "          docLink.innerHTML = docLinkHtml;\n",
              "          element.appendChild(docLink);\n",
              "        }\n",
              "      </script>\n",
              "    </div>\n",
              "  </div>\n",
              "  "
            ]
          },
          "metadata": {},
          "execution_count": 4
        }
      ]
    },
    {
      "cell_type": "code",
      "source": [
        "test_nuevo.head()"
      ],
      "metadata": {
        "colab": {
          "base_uri": "https://localhost:8080/",
          "height": 617
        },
        "id": "rOxt7qe-MdR2",
        "outputId": "f51afa2e-2c2f-4b55-b6dc-12d238b03bc7"
      },
      "execution_count": null,
      "outputs": [
        {
          "output_type": "execute_result",
          "data": {
            "text/plain": [
              "       Usuario                                            Opinion  Gender  \\\n",
              "0  Usuario1847  stayed penticton work march 12th happy stay. l...     1.0   \n",
              "1   Usuario600  atencion todo equipo labora las instalaciones ...     0.0   \n",
              "2   Usuario687  ostello bello grande quite simple without comp...     1.0   \n",
              "3  Usuario1219  desconocido para haber sido primera vez visité...     1.0   \n",
              "4  Usuario1835  ostello bello grande quite simple without comp...     0.0   \n",
              "\n",
              "   Type  Location                Place  MeanLabel  GlobalLabel  \\\n",
              "0   0.0       0.0  The Jazz Foundation          4            4   \n",
              "1   3.0       1.0       Islas Marietas          5            4   \n",
              "2   3.0       0.0       Islas Marietas          5            5   \n",
              "3   0.0       1.0       Islas Marietas          4            4   \n",
              "4   0.0       1.0    Splash Water Park          5            5   \n",
              "\n",
              "                                          info_lugar  Description  \n",
              "0  Recurrimos al Jazz al arte y la cultura como l...            2  \n",
              "1  El Parque Nacional Islas Marietas son dos isla...            1  \n",
              "2  El Parque Nacional Islas Marietas son dos isla...            1  \n",
              "3  El Parque Nacional Islas Marietas son dos isla...            1  \n",
              "4  Precios increíbles y sin cargos. Ahorra. La má...            1  "
            ],
            "text/html": [
              "\n",
              "  <div id=\"df-982ebd95-f2f5-4b51-8e95-4533e7c324b5\">\n",
              "    <div class=\"colab-df-container\">\n",
              "      <div>\n",
              "<style scoped>\n",
              "    .dataframe tbody tr th:only-of-type {\n",
              "        vertical-align: middle;\n",
              "    }\n",
              "\n",
              "    .dataframe tbody tr th {\n",
              "        vertical-align: top;\n",
              "    }\n",
              "\n",
              "    .dataframe thead th {\n",
              "        text-align: right;\n",
              "    }\n",
              "</style>\n",
              "<table border=\"1\" class=\"dataframe\">\n",
              "  <thead>\n",
              "    <tr style=\"text-align: right;\">\n",
              "      <th></th>\n",
              "      <th>Usuario</th>\n",
              "      <th>Opinion</th>\n",
              "      <th>Gender</th>\n",
              "      <th>Type</th>\n",
              "      <th>Location</th>\n",
              "      <th>Place</th>\n",
              "      <th>MeanLabel</th>\n",
              "      <th>GlobalLabel</th>\n",
              "      <th>info_lugar</th>\n",
              "      <th>Description</th>\n",
              "    </tr>\n",
              "  </thead>\n",
              "  <tbody>\n",
              "    <tr>\n",
              "      <th>0</th>\n",
              "      <td>Usuario1847</td>\n",
              "      <td>stayed penticton work march 12th happy stay. l...</td>\n",
              "      <td>1.0</td>\n",
              "      <td>0.0</td>\n",
              "      <td>0.0</td>\n",
              "      <td>The Jazz Foundation</td>\n",
              "      <td>4</td>\n",
              "      <td>4</td>\n",
              "      <td>Recurrimos al Jazz al arte y la cultura como l...</td>\n",
              "      <td>2</td>\n",
              "    </tr>\n",
              "    <tr>\n",
              "      <th>1</th>\n",
              "      <td>Usuario600</td>\n",
              "      <td>atencion todo equipo labora las instalaciones ...</td>\n",
              "      <td>0.0</td>\n",
              "      <td>3.0</td>\n",
              "      <td>1.0</td>\n",
              "      <td>Islas Marietas</td>\n",
              "      <td>5</td>\n",
              "      <td>4</td>\n",
              "      <td>El Parque Nacional Islas Marietas son dos isla...</td>\n",
              "      <td>1</td>\n",
              "    </tr>\n",
              "    <tr>\n",
              "      <th>2</th>\n",
              "      <td>Usuario687</td>\n",
              "      <td>ostello bello grande quite simple without comp...</td>\n",
              "      <td>1.0</td>\n",
              "      <td>3.0</td>\n",
              "      <td>0.0</td>\n",
              "      <td>Islas Marietas</td>\n",
              "      <td>5</td>\n",
              "      <td>5</td>\n",
              "      <td>El Parque Nacional Islas Marietas son dos isla...</td>\n",
              "      <td>1</td>\n",
              "    </tr>\n",
              "    <tr>\n",
              "      <th>3</th>\n",
              "      <td>Usuario1219</td>\n",
              "      <td>desconocido para haber sido primera vez visité...</td>\n",
              "      <td>1.0</td>\n",
              "      <td>0.0</td>\n",
              "      <td>1.0</td>\n",
              "      <td>Islas Marietas</td>\n",
              "      <td>4</td>\n",
              "      <td>4</td>\n",
              "      <td>El Parque Nacional Islas Marietas son dos isla...</td>\n",
              "      <td>1</td>\n",
              "    </tr>\n",
              "    <tr>\n",
              "      <th>4</th>\n",
              "      <td>Usuario1835</td>\n",
              "      <td>ostello bello grande quite simple without comp...</td>\n",
              "      <td>0.0</td>\n",
              "      <td>0.0</td>\n",
              "      <td>1.0</td>\n",
              "      <td>Splash Water Park</td>\n",
              "      <td>5</td>\n",
              "      <td>5</td>\n",
              "      <td>Precios increíbles y sin cargos. Ahorra. La má...</td>\n",
              "      <td>1</td>\n",
              "    </tr>\n",
              "  </tbody>\n",
              "</table>\n",
              "</div>\n",
              "      <button class=\"colab-df-convert\" onclick=\"convertToInteractive('df-982ebd95-f2f5-4b51-8e95-4533e7c324b5')\"\n",
              "              title=\"Convert this dataframe to an interactive table.\"\n",
              "              style=\"display:none;\">\n",
              "        \n",
              "  <svg xmlns=\"http://www.w3.org/2000/svg\" height=\"24px\"viewBox=\"0 0 24 24\"\n",
              "       width=\"24px\">\n",
              "    <path d=\"M0 0h24v24H0V0z\" fill=\"none\"/>\n",
              "    <path d=\"M18.56 5.44l.94 2.06.94-2.06 2.06-.94-2.06-.94-.94-2.06-.94 2.06-2.06.94zm-11 1L8.5 8.5l.94-2.06 2.06-.94-2.06-.94L8.5 2.5l-.94 2.06-2.06.94zm10 10l.94 2.06.94-2.06 2.06-.94-2.06-.94-.94-2.06-.94 2.06-2.06.94z\"/><path d=\"M17.41 7.96l-1.37-1.37c-.4-.4-.92-.59-1.43-.59-.52 0-1.04.2-1.43.59L10.3 9.45l-7.72 7.72c-.78.78-.78 2.05 0 2.83L4 21.41c.39.39.9.59 1.41.59.51 0 1.02-.2 1.41-.59l7.78-7.78 2.81-2.81c.8-.78.8-2.07 0-2.86zM5.41 20L4 18.59l7.72-7.72 1.47 1.35L5.41 20z\"/>\n",
              "  </svg>\n",
              "      </button>\n",
              "      \n",
              "  <style>\n",
              "    .colab-df-container {\n",
              "      display:flex;\n",
              "      flex-wrap:wrap;\n",
              "      gap: 12px;\n",
              "    }\n",
              "\n",
              "    .colab-df-convert {\n",
              "      background-color: #E8F0FE;\n",
              "      border: none;\n",
              "      border-radius: 50%;\n",
              "      cursor: pointer;\n",
              "      display: none;\n",
              "      fill: #1967D2;\n",
              "      height: 32px;\n",
              "      padding: 0 0 0 0;\n",
              "      width: 32px;\n",
              "    }\n",
              "\n",
              "    .colab-df-convert:hover {\n",
              "      background-color: #E2EBFA;\n",
              "      box-shadow: 0px 1px 2px rgba(60, 64, 67, 0.3), 0px 1px 3px 1px rgba(60, 64, 67, 0.15);\n",
              "      fill: #174EA6;\n",
              "    }\n",
              "\n",
              "    [theme=dark] .colab-df-convert {\n",
              "      background-color: #3B4455;\n",
              "      fill: #D2E3FC;\n",
              "    }\n",
              "\n",
              "    [theme=dark] .colab-df-convert:hover {\n",
              "      background-color: #434B5C;\n",
              "      box-shadow: 0px 1px 3px 1px rgba(0, 0, 0, 0.15);\n",
              "      filter: drop-shadow(0px 1px 2px rgba(0, 0, 0, 0.3));\n",
              "      fill: #FFFFFF;\n",
              "    }\n",
              "  </style>\n",
              "\n",
              "      <script>\n",
              "        const buttonEl =\n",
              "          document.querySelector('#df-982ebd95-f2f5-4b51-8e95-4533e7c324b5 button.colab-df-convert');\n",
              "        buttonEl.style.display =\n",
              "          google.colab.kernel.accessAllowed ? 'block' : 'none';\n",
              "\n",
              "        async function convertToInteractive(key) {\n",
              "          const element = document.querySelector('#df-982ebd95-f2f5-4b51-8e95-4533e7c324b5');\n",
              "          const dataTable =\n",
              "            await google.colab.kernel.invokeFunction('convertToInteractive',\n",
              "                                                     [key], {});\n",
              "          if (!dataTable) return;\n",
              "\n",
              "          const docLinkHtml = 'Like what you see? Visit the ' +\n",
              "            '<a target=\"_blank\" href=https://colab.research.google.com/notebooks/data_table.ipynb>data table notebook</a>'\n",
              "            + ' to learn more about interactive tables.';\n",
              "          element.innerHTML = '';\n",
              "          dataTable['output_type'] = 'display_data';\n",
              "          await google.colab.output.renderOutput(dataTable, element);\n",
              "          const docLink = document.createElement('div');\n",
              "          docLink.innerHTML = docLinkHtml;\n",
              "          element.appendChild(docLink);\n",
              "        }\n",
              "      </script>\n",
              "    </div>\n",
              "  </div>\n",
              "  "
            ]
          },
          "metadata": {},
          "execution_count": 5
        }
      ]
    },
    {
      "cell_type": "code",
      "source": [
        "df_nuevo.tail()"
      ],
      "metadata": {
        "colab": {
          "base_uri": "https://localhost:8080/",
          "height": 739
        },
        "id": "yXb6Ui2U4StN",
        "outputId": "306d08d3-6b9c-4b98-e2d1-710f3e51bb87"
      },
      "execution_count": null,
      "outputs": [
        {
          "output_type": "execute_result",
          "data": {
            "text/plain": [
              "         Usuario                                            Opinion  Gender  \\\n",
              "917   Usuario809  went family great food happy went sat immediat...       1   \n",
              "918    Usuario40  impressed whole flight, extra seats move us ar...       1   \n",
              "919  Usuario1499  ostello bello grande quite simple without comp...       0   \n",
              "920  Usuario1205  ostello bello grande quite simple without comp...       0   \n",
              "921   Usuario471  lugar se encuentra una una zona industrial ren...       1   \n",
              "\n",
              "     Type  Label  Location                Place  MeanLabel  GlobalLabel  \\\n",
              "917     1      5         0       Islas Marietas          5            4   \n",
              "918     0      5         0    Bucerias Art Walk          4            4   \n",
              "919     2      5         0  Manantial La Tovara          5            5   \n",
              "920     3      5         1       Islas Marietas          5            5   \n",
              "921     0      5         1       Islas Marietas          4            4   \n",
              "\n",
              "                                            info_lugar  Description  \n",
              "917  El Parque Nacional Islas Marietas son dos isla...            1  \n",
              "918  Hogar de uno de los paseos artísticos más sing...            2  \n",
              "919  La Tovara es un manantial ubicado en el munici...            1  \n",
              "920  El Parque Nacional Islas Marietas son dos isla...            1  \n",
              "921  El Parque Nacional Islas Marietas son dos isla...            1  "
            ],
            "text/html": [
              "\n",
              "  <div id=\"df-3580195d-81b1-49f7-ad8f-9880df54fe57\">\n",
              "    <div class=\"colab-df-container\">\n",
              "      <div>\n",
              "<style scoped>\n",
              "    .dataframe tbody tr th:only-of-type {\n",
              "        vertical-align: middle;\n",
              "    }\n",
              "\n",
              "    .dataframe tbody tr th {\n",
              "        vertical-align: top;\n",
              "    }\n",
              "\n",
              "    .dataframe thead th {\n",
              "        text-align: right;\n",
              "    }\n",
              "</style>\n",
              "<table border=\"1\" class=\"dataframe\">\n",
              "  <thead>\n",
              "    <tr style=\"text-align: right;\">\n",
              "      <th></th>\n",
              "      <th>Usuario</th>\n",
              "      <th>Opinion</th>\n",
              "      <th>Gender</th>\n",
              "      <th>Type</th>\n",
              "      <th>Label</th>\n",
              "      <th>Location</th>\n",
              "      <th>Place</th>\n",
              "      <th>MeanLabel</th>\n",
              "      <th>GlobalLabel</th>\n",
              "      <th>info_lugar</th>\n",
              "      <th>Description</th>\n",
              "    </tr>\n",
              "  </thead>\n",
              "  <tbody>\n",
              "    <tr>\n",
              "      <th>917</th>\n",
              "      <td>Usuario809</td>\n",
              "      <td>went family great food happy went sat immediat...</td>\n",
              "      <td>1</td>\n",
              "      <td>1</td>\n",
              "      <td>5</td>\n",
              "      <td>0</td>\n",
              "      <td>Islas Marietas</td>\n",
              "      <td>5</td>\n",
              "      <td>4</td>\n",
              "      <td>El Parque Nacional Islas Marietas son dos isla...</td>\n",
              "      <td>1</td>\n",
              "    </tr>\n",
              "    <tr>\n",
              "      <th>918</th>\n",
              "      <td>Usuario40</td>\n",
              "      <td>impressed whole flight, extra seats move us ar...</td>\n",
              "      <td>1</td>\n",
              "      <td>0</td>\n",
              "      <td>5</td>\n",
              "      <td>0</td>\n",
              "      <td>Bucerias Art Walk</td>\n",
              "      <td>4</td>\n",
              "      <td>4</td>\n",
              "      <td>Hogar de uno de los paseos artísticos más sing...</td>\n",
              "      <td>2</td>\n",
              "    </tr>\n",
              "    <tr>\n",
              "      <th>919</th>\n",
              "      <td>Usuario1499</td>\n",
              "      <td>ostello bello grande quite simple without comp...</td>\n",
              "      <td>0</td>\n",
              "      <td>2</td>\n",
              "      <td>5</td>\n",
              "      <td>0</td>\n",
              "      <td>Manantial La Tovara</td>\n",
              "      <td>5</td>\n",
              "      <td>5</td>\n",
              "      <td>La Tovara es un manantial ubicado en el munici...</td>\n",
              "      <td>1</td>\n",
              "    </tr>\n",
              "    <tr>\n",
              "      <th>920</th>\n",
              "      <td>Usuario1205</td>\n",
              "      <td>ostello bello grande quite simple without comp...</td>\n",
              "      <td>0</td>\n",
              "      <td>3</td>\n",
              "      <td>5</td>\n",
              "      <td>1</td>\n",
              "      <td>Islas Marietas</td>\n",
              "      <td>5</td>\n",
              "      <td>5</td>\n",
              "      <td>El Parque Nacional Islas Marietas son dos isla...</td>\n",
              "      <td>1</td>\n",
              "    </tr>\n",
              "    <tr>\n",
              "      <th>921</th>\n",
              "      <td>Usuario471</td>\n",
              "      <td>lugar se encuentra una una zona industrial ren...</td>\n",
              "      <td>1</td>\n",
              "      <td>0</td>\n",
              "      <td>5</td>\n",
              "      <td>1</td>\n",
              "      <td>Islas Marietas</td>\n",
              "      <td>4</td>\n",
              "      <td>4</td>\n",
              "      <td>El Parque Nacional Islas Marietas son dos isla...</td>\n",
              "      <td>1</td>\n",
              "    </tr>\n",
              "  </tbody>\n",
              "</table>\n",
              "</div>\n",
              "      <button class=\"colab-df-convert\" onclick=\"convertToInteractive('df-3580195d-81b1-49f7-ad8f-9880df54fe57')\"\n",
              "              title=\"Convert this dataframe to an interactive table.\"\n",
              "              style=\"display:none;\">\n",
              "        \n",
              "  <svg xmlns=\"http://www.w3.org/2000/svg\" height=\"24px\"viewBox=\"0 0 24 24\"\n",
              "       width=\"24px\">\n",
              "    <path d=\"M0 0h24v24H0V0z\" fill=\"none\"/>\n",
              "    <path d=\"M18.56 5.44l.94 2.06.94-2.06 2.06-.94-2.06-.94-.94-2.06-.94 2.06-2.06.94zm-11 1L8.5 8.5l.94-2.06 2.06-.94-2.06-.94L8.5 2.5l-.94 2.06-2.06.94zm10 10l.94 2.06.94-2.06 2.06-.94-2.06-.94-.94-2.06-.94 2.06-2.06.94z\"/><path d=\"M17.41 7.96l-1.37-1.37c-.4-.4-.92-.59-1.43-.59-.52 0-1.04.2-1.43.59L10.3 9.45l-7.72 7.72c-.78.78-.78 2.05 0 2.83L4 21.41c.39.39.9.59 1.41.59.51 0 1.02-.2 1.41-.59l7.78-7.78 2.81-2.81c.8-.78.8-2.07 0-2.86zM5.41 20L4 18.59l7.72-7.72 1.47 1.35L5.41 20z\"/>\n",
              "  </svg>\n",
              "      </button>\n",
              "      \n",
              "  <style>\n",
              "    .colab-df-container {\n",
              "      display:flex;\n",
              "      flex-wrap:wrap;\n",
              "      gap: 12px;\n",
              "    }\n",
              "\n",
              "    .colab-df-convert {\n",
              "      background-color: #E8F0FE;\n",
              "      border: none;\n",
              "      border-radius: 50%;\n",
              "      cursor: pointer;\n",
              "      display: none;\n",
              "      fill: #1967D2;\n",
              "      height: 32px;\n",
              "      padding: 0 0 0 0;\n",
              "      width: 32px;\n",
              "    }\n",
              "\n",
              "    .colab-df-convert:hover {\n",
              "      background-color: #E2EBFA;\n",
              "      box-shadow: 0px 1px 2px rgba(60, 64, 67, 0.3), 0px 1px 3px 1px rgba(60, 64, 67, 0.15);\n",
              "      fill: #174EA6;\n",
              "    }\n",
              "\n",
              "    [theme=dark] .colab-df-convert {\n",
              "      background-color: #3B4455;\n",
              "      fill: #D2E3FC;\n",
              "    }\n",
              "\n",
              "    [theme=dark] .colab-df-convert:hover {\n",
              "      background-color: #434B5C;\n",
              "      box-shadow: 0px 1px 3px 1px rgba(0, 0, 0, 0.15);\n",
              "      filter: drop-shadow(0px 1px 2px rgba(0, 0, 0, 0.3));\n",
              "      fill: #FFFFFF;\n",
              "    }\n",
              "  </style>\n",
              "\n",
              "      <script>\n",
              "        const buttonEl =\n",
              "          document.querySelector('#df-3580195d-81b1-49f7-ad8f-9880df54fe57 button.colab-df-convert');\n",
              "        buttonEl.style.display =\n",
              "          google.colab.kernel.accessAllowed ? 'block' : 'none';\n",
              "\n",
              "        async function convertToInteractive(key) {\n",
              "          const element = document.querySelector('#df-3580195d-81b1-49f7-ad8f-9880df54fe57');\n",
              "          const dataTable =\n",
              "            await google.colab.kernel.invokeFunction('convertToInteractive',\n",
              "                                                     [key], {});\n",
              "          if (!dataTable) return;\n",
              "\n",
              "          const docLinkHtml = 'Like what you see? Visit the ' +\n",
              "            '<a target=\"_blank\" href=https://colab.research.google.com/notebooks/data_table.ipynb>data table notebook</a>'\n",
              "            + ' to learn more about interactive tables.';\n",
              "          element.innerHTML = '';\n",
              "          dataTable['output_type'] = 'display_data';\n",
              "          await google.colab.output.renderOutput(dataTable, element);\n",
              "          const docLink = document.createElement('div');\n",
              "          docLink.innerHTML = docLinkHtml;\n",
              "          element.appendChild(docLink);\n",
              "        }\n",
              "      </script>\n",
              "    </div>\n",
              "  </div>\n",
              "  "
            ]
          },
          "metadata": {},
          "execution_count": 6
        }
      ]
    },
    {
      "cell_type": "markdown",
      "source": [
        "# 1st RUN"
      ],
      "metadata": {
        "id": "ViYvPoWpjK1e"
      }
    },
    {
      "cell_type": "markdown",
      "source": [
        "En esta estretegia concatenamos los textos [opinion,place, info_lugar], hacemos BOW con pesado binario del texto resultante, luego concatenamos con las otras variables categóricas. Finalmente pasamos por un clasificador."
      ],
      "metadata": {
        "id": "1k94f3FI0fft"
      }
    },
    {
      "cell_type": "code",
      "source": [
        "#Concatenación del texto\n",
        "text = df_nuevo['Opinion']+' '+df_nuevo['Place']+' '+df_nuevo['info_lugar']\n",
        "text = pd.DataFrame(text, columns=['Text']) "
      ],
      "metadata": {
        "id": "MPt3L9wdjUTO"
      },
      "execution_count": null,
      "outputs": []
    },
    {
      "cell_type": "markdown",
      "source": [
        "Concatenamos el texto con las variables numéricas"
      ],
      "metadata": {
        "id": "E6xst8qEg_KF"
      }
    },
    {
      "cell_type": "code",
      "source": [
        "df=pd.concat([text['Text'],df_nuevo[['Gender', 'Type', 'Label', 'Location','MeanLabel','GlobalLabel','Description']]],axis=1)"
      ],
      "metadata": {
        "id": "c9-qc5_RhDmd"
      },
      "execution_count": null,
      "outputs": []
    },
    {
      "cell_type": "code",
      "source": [
        "df.head()"
      ],
      "metadata": {
        "colab": {
          "base_uri": "https://localhost:8080/",
          "height": 669
        },
        "id": "zxDjGiNdhh3N",
        "outputId": "48097eda-757d-4188-a2aa-6d88b564a701"
      },
      "execution_count": null,
      "outputs": [
        {
          "output_type": "execute_result",
          "data": {
            "text/plain": [
              "                                                Text  Gender  Type  Label  \\\n",
              "0  siempre ha agradado comida este lugar, atenció...       0     0      3   \n",
              "1  got home 2 weeks puntarena. hotel good value! ...       0     0      5   \n",
              "2  siempre hay gente sonriente dispuesta ayudar t...       0     3      4   \n",
              "3  friend celebrated mother's day barcelona tapas...       0     3      3   \n",
              "4  llegamos al hotel día domingo estuvimos una se...       1     3      4   \n",
              "\n",
              "   Location  MeanLabel  GlobalLabel  Description  \n",
              "0         1          4            4            2  \n",
              "1         0          5            4            1  \n",
              "2         0          5            4            1  \n",
              "3         0          5            5            1  \n",
              "4         0          5            4            1  "
            ],
            "text/html": [
              "\n",
              "  <div id=\"df-4770b71c-b2ef-4989-b512-848b1cc2a949\">\n",
              "    <div class=\"colab-df-container\">\n",
              "      <div>\n",
              "<style scoped>\n",
              "    .dataframe tbody tr th:only-of-type {\n",
              "        vertical-align: middle;\n",
              "    }\n",
              "\n",
              "    .dataframe tbody tr th {\n",
              "        vertical-align: top;\n",
              "    }\n",
              "\n",
              "    .dataframe thead th {\n",
              "        text-align: right;\n",
              "    }\n",
              "</style>\n",
              "<table border=\"1\" class=\"dataframe\">\n",
              "  <thead>\n",
              "    <tr style=\"text-align: right;\">\n",
              "      <th></th>\n",
              "      <th>Text</th>\n",
              "      <th>Gender</th>\n",
              "      <th>Type</th>\n",
              "      <th>Label</th>\n",
              "      <th>Location</th>\n",
              "      <th>MeanLabel</th>\n",
              "      <th>GlobalLabel</th>\n",
              "      <th>Description</th>\n",
              "    </tr>\n",
              "  </thead>\n",
              "  <tbody>\n",
              "    <tr>\n",
              "      <th>0</th>\n",
              "      <td>siempre ha agradado comida este lugar, atenció...</td>\n",
              "      <td>0</td>\n",
              "      <td>0</td>\n",
              "      <td>3</td>\n",
              "      <td>1</td>\n",
              "      <td>4</td>\n",
              "      <td>4</td>\n",
              "      <td>2</td>\n",
              "    </tr>\n",
              "    <tr>\n",
              "      <th>1</th>\n",
              "      <td>got home 2 weeks puntarena. hotel good value! ...</td>\n",
              "      <td>0</td>\n",
              "      <td>0</td>\n",
              "      <td>5</td>\n",
              "      <td>0</td>\n",
              "      <td>5</td>\n",
              "      <td>4</td>\n",
              "      <td>1</td>\n",
              "    </tr>\n",
              "    <tr>\n",
              "      <th>2</th>\n",
              "      <td>siempre hay gente sonriente dispuesta ayudar t...</td>\n",
              "      <td>0</td>\n",
              "      <td>3</td>\n",
              "      <td>4</td>\n",
              "      <td>0</td>\n",
              "      <td>5</td>\n",
              "      <td>4</td>\n",
              "      <td>1</td>\n",
              "    </tr>\n",
              "    <tr>\n",
              "      <th>3</th>\n",
              "      <td>friend celebrated mother's day barcelona tapas...</td>\n",
              "      <td>0</td>\n",
              "      <td>3</td>\n",
              "      <td>3</td>\n",
              "      <td>0</td>\n",
              "      <td>5</td>\n",
              "      <td>5</td>\n",
              "      <td>1</td>\n",
              "    </tr>\n",
              "    <tr>\n",
              "      <th>4</th>\n",
              "      <td>llegamos al hotel día domingo estuvimos una se...</td>\n",
              "      <td>1</td>\n",
              "      <td>3</td>\n",
              "      <td>4</td>\n",
              "      <td>0</td>\n",
              "      <td>5</td>\n",
              "      <td>4</td>\n",
              "      <td>1</td>\n",
              "    </tr>\n",
              "  </tbody>\n",
              "</table>\n",
              "</div>\n",
              "      <button class=\"colab-df-convert\" onclick=\"convertToInteractive('df-4770b71c-b2ef-4989-b512-848b1cc2a949')\"\n",
              "              title=\"Convert this dataframe to an interactive table.\"\n",
              "              style=\"display:none;\">\n",
              "        \n",
              "  <svg xmlns=\"http://www.w3.org/2000/svg\" height=\"24px\"viewBox=\"0 0 24 24\"\n",
              "       width=\"24px\">\n",
              "    <path d=\"M0 0h24v24H0V0z\" fill=\"none\"/>\n",
              "    <path d=\"M18.56 5.44l.94 2.06.94-2.06 2.06-.94-2.06-.94-.94-2.06-.94 2.06-2.06.94zm-11 1L8.5 8.5l.94-2.06 2.06-.94-2.06-.94L8.5 2.5l-.94 2.06-2.06.94zm10 10l.94 2.06.94-2.06 2.06-.94-2.06-.94-.94-2.06-.94 2.06-2.06.94z\"/><path d=\"M17.41 7.96l-1.37-1.37c-.4-.4-.92-.59-1.43-.59-.52 0-1.04.2-1.43.59L10.3 9.45l-7.72 7.72c-.78.78-.78 2.05 0 2.83L4 21.41c.39.39.9.59 1.41.59.51 0 1.02-.2 1.41-.59l7.78-7.78 2.81-2.81c.8-.78.8-2.07 0-2.86zM5.41 20L4 18.59l7.72-7.72 1.47 1.35L5.41 20z\"/>\n",
              "  </svg>\n",
              "      </button>\n",
              "      \n",
              "  <style>\n",
              "    .colab-df-container {\n",
              "      display:flex;\n",
              "      flex-wrap:wrap;\n",
              "      gap: 12px;\n",
              "    }\n",
              "\n",
              "    .colab-df-convert {\n",
              "      background-color: #E8F0FE;\n",
              "      border: none;\n",
              "      border-radius: 50%;\n",
              "      cursor: pointer;\n",
              "      display: none;\n",
              "      fill: #1967D2;\n",
              "      height: 32px;\n",
              "      padding: 0 0 0 0;\n",
              "      width: 32px;\n",
              "    }\n",
              "\n",
              "    .colab-df-convert:hover {\n",
              "      background-color: #E2EBFA;\n",
              "      box-shadow: 0px 1px 2px rgba(60, 64, 67, 0.3), 0px 1px 3px 1px rgba(60, 64, 67, 0.15);\n",
              "      fill: #174EA6;\n",
              "    }\n",
              "\n",
              "    [theme=dark] .colab-df-convert {\n",
              "      background-color: #3B4455;\n",
              "      fill: #D2E3FC;\n",
              "    }\n",
              "\n",
              "    [theme=dark] .colab-df-convert:hover {\n",
              "      background-color: #434B5C;\n",
              "      box-shadow: 0px 1px 3px 1px rgba(0, 0, 0, 0.15);\n",
              "      filter: drop-shadow(0px 1px 2px rgba(0, 0, 0, 0.3));\n",
              "      fill: #FFFFFF;\n",
              "    }\n",
              "  </style>\n",
              "\n",
              "      <script>\n",
              "        const buttonEl =\n",
              "          document.querySelector('#df-4770b71c-b2ef-4989-b512-848b1cc2a949 button.colab-df-convert');\n",
              "        buttonEl.style.display =\n",
              "          google.colab.kernel.accessAllowed ? 'block' : 'none';\n",
              "\n",
              "        async function convertToInteractive(key) {\n",
              "          const element = document.querySelector('#df-4770b71c-b2ef-4989-b512-848b1cc2a949');\n",
              "          const dataTable =\n",
              "            await google.colab.kernel.invokeFunction('convertToInteractive',\n",
              "                                                     [key], {});\n",
              "          if (!dataTable) return;\n",
              "\n",
              "          const docLinkHtml = 'Like what you see? Visit the ' +\n",
              "            '<a target=\"_blank\" href=https://colab.research.google.com/notebooks/data_table.ipynb>data table notebook</a>'\n",
              "            + ' to learn more about interactive tables.';\n",
              "          element.innerHTML = '';\n",
              "          dataTable['output_type'] = 'display_data';\n",
              "          await google.colab.output.renderOutput(dataTable, element);\n",
              "          const docLink = document.createElement('div');\n",
              "          docLink.innerHTML = docLinkHtml;\n",
              "          element.appendChild(docLink);\n",
              "        }\n",
              "      </script>\n",
              "    </div>\n",
              "  </div>\n",
              "  "
            ]
          },
          "metadata": {},
          "execution_count": 9
        }
      ]
    },
    {
      "cell_type": "markdown",
      "source": [
        "Ahora para test:"
      ],
      "metadata": {
        "id": "6C8RJH-IMnUg"
      }
    },
    {
      "cell_type": "code",
      "source": [
        "#Concatenación del texto\n",
        "text2 = test_nuevo['Opinion']+' '+test_nuevo['Place']+' '+test_nuevo['info_lugar']\n",
        "text2 = pd.DataFrame(text2, columns=['Text']) "
      ],
      "metadata": {
        "id": "zUY6k4HyM0Xa"
      },
      "execution_count": null,
      "outputs": []
    },
    {
      "cell_type": "code",
      "source": [
        "df_test=pd.concat([text2['Text'],test_nuevo[['Gender', 'Type', 'Location','MeanLabel','GlobalLabel','Description']]],axis=1)"
      ],
      "metadata": {
        "id": "LI5fCRhbMqhZ"
      },
      "execution_count": null,
      "outputs": []
    },
    {
      "cell_type": "code",
      "source": [
        "df_test.head()"
      ],
      "metadata": {
        "colab": {
          "base_uri": "https://localhost:8080/",
          "height": 510
        },
        "outputId": "0d62bd8b-7439-450b-f439-9af9eeb9e873",
        "id": "-wMXsF-gMqhZ"
      },
      "execution_count": null,
      "outputs": [
        {
          "output_type": "execute_result",
          "data": {
            "text/plain": [
              "                                                Text  Gender  Type  Location  \\\n",
              "0  stayed penticton work march 12th happy stay. l...     1.0   0.0       0.0   \n",
              "1  atencion todo equipo labora las instalaciones ...     0.0   3.0       1.0   \n",
              "2  ostello bello grande quite simple without comp...     1.0   3.0       0.0   \n",
              "3  desconocido para haber sido primera vez visité...     1.0   0.0       1.0   \n",
              "4  ostello bello grande quite simple without comp...     0.0   0.0       1.0   \n",
              "\n",
              "   MeanLabel  GlobalLabel  Description  \n",
              "0          4            4            2  \n",
              "1          5            4            1  \n",
              "2          5            5            1  \n",
              "3          4            4            1  \n",
              "4          5            5            1  "
            ],
            "text/html": [
              "\n",
              "  <div id=\"df-32515c26-4b44-4ca0-bb87-1051740b0c33\">\n",
              "    <div class=\"colab-df-container\">\n",
              "      <div>\n",
              "<style scoped>\n",
              "    .dataframe tbody tr th:only-of-type {\n",
              "        vertical-align: middle;\n",
              "    }\n",
              "\n",
              "    .dataframe tbody tr th {\n",
              "        vertical-align: top;\n",
              "    }\n",
              "\n",
              "    .dataframe thead th {\n",
              "        text-align: right;\n",
              "    }\n",
              "</style>\n",
              "<table border=\"1\" class=\"dataframe\">\n",
              "  <thead>\n",
              "    <tr style=\"text-align: right;\">\n",
              "      <th></th>\n",
              "      <th>Text</th>\n",
              "      <th>Gender</th>\n",
              "      <th>Type</th>\n",
              "      <th>Location</th>\n",
              "      <th>MeanLabel</th>\n",
              "      <th>GlobalLabel</th>\n",
              "      <th>Description</th>\n",
              "    </tr>\n",
              "  </thead>\n",
              "  <tbody>\n",
              "    <tr>\n",
              "      <th>0</th>\n",
              "      <td>stayed penticton work march 12th happy stay. l...</td>\n",
              "      <td>1.0</td>\n",
              "      <td>0.0</td>\n",
              "      <td>0.0</td>\n",
              "      <td>4</td>\n",
              "      <td>4</td>\n",
              "      <td>2</td>\n",
              "    </tr>\n",
              "    <tr>\n",
              "      <th>1</th>\n",
              "      <td>atencion todo equipo labora las instalaciones ...</td>\n",
              "      <td>0.0</td>\n",
              "      <td>3.0</td>\n",
              "      <td>1.0</td>\n",
              "      <td>5</td>\n",
              "      <td>4</td>\n",
              "      <td>1</td>\n",
              "    </tr>\n",
              "    <tr>\n",
              "      <th>2</th>\n",
              "      <td>ostello bello grande quite simple without comp...</td>\n",
              "      <td>1.0</td>\n",
              "      <td>3.0</td>\n",
              "      <td>0.0</td>\n",
              "      <td>5</td>\n",
              "      <td>5</td>\n",
              "      <td>1</td>\n",
              "    </tr>\n",
              "    <tr>\n",
              "      <th>3</th>\n",
              "      <td>desconocido para haber sido primera vez visité...</td>\n",
              "      <td>1.0</td>\n",
              "      <td>0.0</td>\n",
              "      <td>1.0</td>\n",
              "      <td>4</td>\n",
              "      <td>4</td>\n",
              "      <td>1</td>\n",
              "    </tr>\n",
              "    <tr>\n",
              "      <th>4</th>\n",
              "      <td>ostello bello grande quite simple without comp...</td>\n",
              "      <td>0.0</td>\n",
              "      <td>0.0</td>\n",
              "      <td>1.0</td>\n",
              "      <td>5</td>\n",
              "      <td>5</td>\n",
              "      <td>1</td>\n",
              "    </tr>\n",
              "  </tbody>\n",
              "</table>\n",
              "</div>\n",
              "      <button class=\"colab-df-convert\" onclick=\"convertToInteractive('df-32515c26-4b44-4ca0-bb87-1051740b0c33')\"\n",
              "              title=\"Convert this dataframe to an interactive table.\"\n",
              "              style=\"display:none;\">\n",
              "        \n",
              "  <svg xmlns=\"http://www.w3.org/2000/svg\" height=\"24px\"viewBox=\"0 0 24 24\"\n",
              "       width=\"24px\">\n",
              "    <path d=\"M0 0h24v24H0V0z\" fill=\"none\"/>\n",
              "    <path d=\"M18.56 5.44l.94 2.06.94-2.06 2.06-.94-2.06-.94-.94-2.06-.94 2.06-2.06.94zm-11 1L8.5 8.5l.94-2.06 2.06-.94-2.06-.94L8.5 2.5l-.94 2.06-2.06.94zm10 10l.94 2.06.94-2.06 2.06-.94-2.06-.94-.94-2.06-.94 2.06-2.06.94z\"/><path d=\"M17.41 7.96l-1.37-1.37c-.4-.4-.92-.59-1.43-.59-.52 0-1.04.2-1.43.59L10.3 9.45l-7.72 7.72c-.78.78-.78 2.05 0 2.83L4 21.41c.39.39.9.59 1.41.59.51 0 1.02-.2 1.41-.59l7.78-7.78 2.81-2.81c.8-.78.8-2.07 0-2.86zM5.41 20L4 18.59l7.72-7.72 1.47 1.35L5.41 20z\"/>\n",
              "  </svg>\n",
              "      </button>\n",
              "      \n",
              "  <style>\n",
              "    .colab-df-container {\n",
              "      display:flex;\n",
              "      flex-wrap:wrap;\n",
              "      gap: 12px;\n",
              "    }\n",
              "\n",
              "    .colab-df-convert {\n",
              "      background-color: #E8F0FE;\n",
              "      border: none;\n",
              "      border-radius: 50%;\n",
              "      cursor: pointer;\n",
              "      display: none;\n",
              "      fill: #1967D2;\n",
              "      height: 32px;\n",
              "      padding: 0 0 0 0;\n",
              "      width: 32px;\n",
              "    }\n",
              "\n",
              "    .colab-df-convert:hover {\n",
              "      background-color: #E2EBFA;\n",
              "      box-shadow: 0px 1px 2px rgba(60, 64, 67, 0.3), 0px 1px 3px 1px rgba(60, 64, 67, 0.15);\n",
              "      fill: #174EA6;\n",
              "    }\n",
              "\n",
              "    [theme=dark] .colab-df-convert {\n",
              "      background-color: #3B4455;\n",
              "      fill: #D2E3FC;\n",
              "    }\n",
              "\n",
              "    [theme=dark] .colab-df-convert:hover {\n",
              "      background-color: #434B5C;\n",
              "      box-shadow: 0px 1px 3px 1px rgba(0, 0, 0, 0.15);\n",
              "      filter: drop-shadow(0px 1px 2px rgba(0, 0, 0, 0.3));\n",
              "      fill: #FFFFFF;\n",
              "    }\n",
              "  </style>\n",
              "\n",
              "      <script>\n",
              "        const buttonEl =\n",
              "          document.querySelector('#df-32515c26-4b44-4ca0-bb87-1051740b0c33 button.colab-df-convert');\n",
              "        buttonEl.style.display =\n",
              "          google.colab.kernel.accessAllowed ? 'block' : 'none';\n",
              "\n",
              "        async function convertToInteractive(key) {\n",
              "          const element = document.querySelector('#df-32515c26-4b44-4ca0-bb87-1051740b0c33');\n",
              "          const dataTable =\n",
              "            await google.colab.kernel.invokeFunction('convertToInteractive',\n",
              "                                                     [key], {});\n",
              "          if (!dataTable) return;\n",
              "\n",
              "          const docLinkHtml = 'Like what you see? Visit the ' +\n",
              "            '<a target=\"_blank\" href=https://colab.research.google.com/notebooks/data_table.ipynb>data table notebook</a>'\n",
              "            + ' to learn more about interactive tables.';\n",
              "          element.innerHTML = '';\n",
              "          dataTable['output_type'] = 'display_data';\n",
              "          await google.colab.output.renderOutput(dataTable, element);\n",
              "          const docLink = document.createElement('div');\n",
              "          docLink.innerHTML = docLinkHtml;\n",
              "          element.appendChild(docLink);\n",
              "        }\n",
              "      </script>\n",
              "    </div>\n",
              "  </div>\n",
              "  "
            ]
          },
          "metadata": {},
          "execution_count": 13
        }
      ]
    },
    {
      "cell_type": "markdown",
      "source": [
        "##BOW"
      ],
      "metadata": {
        "id": "cUEG3xg5BqYQ"
      }
    },
    {
      "cell_type": "markdown",
      "source": [
        "Ahora creamos los BOWS"
      ],
      "metadata": {
        "id": "z3sWPvdG7VXX"
      }
    },
    {
      "cell_type": "code",
      "source": [
        "from sklearn.feature_extraction.text import CountVectorizer, TfidfVectorizer\n",
        "from sklearn.preprocessing import normalize\n",
        "from sklearn.metrics import accuracy_score,precision_score, recall_score, f1_score\n",
        "from sklearn.ensemble import RandomForestClassifier\n",
        "from sklearn.model_selection import StratifiedKFold, KFold\n",
        "from sklearn.feature_selection import SelectKBest, chi2\n",
        "from sklearn import svm\n",
        "from sklearn.model_selection import train_test_split\n",
        "from sklearn.metrics import confusion_matrix, precision_recall_fscore_support, roc_auc_score\n",
        "from sklearn.model_selection import GridSearchCV\n",
        "from sklearn.metrics import mean_absolute_error"
      ],
      "metadata": {
        "id": "x1bzJ2BIog6R"
      },
      "execution_count": null,
      "outputs": []
    },
    {
      "cell_type": "code",
      "source": [
        "#Quitamos la columna target \n",
        "df2=df.drop(columns=['Label'])"
      ],
      "metadata": {
        "id": "aYpOnlProNzS"
      },
      "execution_count": null,
      "outputs": []
    },
    {
      "cell_type": "code",
      "source": [
        "X_train = df2\n",
        "y_train = df['Label']\n",
        "X_test = df_test"
      ],
      "metadata": {
        "id": "8OsHiEDANsGj"
      },
      "execution_count": null,
      "outputs": []
    },
    {
      "cell_type": "code",
      "source": [
        "np.argwhere(np.isnan(X_test))"
      ],
      "metadata": {
        "colab": {
          "base_uri": "https://localhost:8080/"
        },
        "id": "AY30Kv-bQRQC",
        "outputId": "7148240b-e064-48dd-80ff-73c23f881a6e"
      },
      "execution_count": null,
      "outputs": [
        {
          "output_type": "execute_result",
          "data": {
            "text/plain": [
              "array([[   59, 20891],\n",
              "       [  203, 20891],\n",
              "       [  218, 20891],\n",
              "       [  276, 20891],\n",
              "       [  300, 20891],\n",
              "       [  317, 20891],\n",
              "       [  367, 20891],\n",
              "       [  434, 20891],\n",
              "       [  448, 20891],\n",
              "       [  546, 20891]])"
            ]
          },
          "metadata": {},
          "execution_count": 74
        }
      ]
    },
    {
      "cell_type": "code",
      "source": [
        "np.shape(X_test)"
      ],
      "metadata": {
        "colab": {
          "base_uri": "https://localhost:8080/"
        },
        "id": "5aakHgfiQn3z",
        "outputId": "8894014b-8513-436e-b2f9-67c127f78e1b"
      },
      "execution_count": null,
      "outputs": [
        {
          "output_type": "execute_result",
          "data": {
            "text/plain": [
              "(587, 20895)"
            ]
          },
          "metadata": {},
          "execution_count": 56
        }
      ]
    },
    {
      "cell_type": "code",
      "source": [
        "for x in np.argwhere(np.isnan(X_test[:,20890])):\n",
        "  X_test[x,20890]=0\n",
        "for x in np.argwhere(np.isnan(X_test[:,20891])):\n",
        "  X_test[x,20891]=0\n"
      ],
      "metadata": {
        "id": "efnXULJoRplt"
      },
      "execution_count": null,
      "outputs": []
    },
    {
      "cell_type": "code",
      "source": [
        "X_train, X_test, y_train, y_test = train_test_split(df2,df['Label'], test_size=0.1)\n",
        "print('X_train',X_train.shape)\n",
        "print('X_test',X_test.shape)"
      ],
      "metadata": {
        "id": "hnRStZBg7RHK",
        "colab": {
          "base_uri": "https://localhost:8080/"
        },
        "outputId": "f35eeafe-7cd2-406c-e992-60753c6f35e6"
      },
      "execution_count": null,
      "outputs": [
        {
          "output_type": "stream",
          "name": "stdout",
          "text": [
            "X_train (829, 7)\n",
            "X_test (93, 7)\n"
          ]
        }
      ]
    },
    {
      "cell_type": "code",
      "source": [
        "type(X_test)"
      ],
      "metadata": {
        "colab": {
          "base_uri": "https://localhost:8080/"
        },
        "id": "RvA3foboOfq8",
        "outputId": "e59c1b2c-d8ed-41bc-d68c-cbbec5bcbc11"
      },
      "execution_count": null,
      "outputs": [
        {
          "output_type": "execute_result",
          "data": {
            "text/plain": [
              "pandas.core.frame.DataFrame"
            ]
          },
          "metadata": {},
          "execution_count": 43
        }
      ]
    },
    {
      "cell_type": "code",
      "source": [
        "from sklearn.feature_extraction.text import TfidfVectorizer\n",
        "bow_vec = TfidfVectorizer(lowercase=True)"
      ],
      "metadata": {
        "id": "67mStuEupAe2"
      },
      "execution_count": null,
      "outputs": []
    },
    {
      "cell_type": "code",
      "source": [
        "#bow de texto\n",
        "bow_train=bow_vec.fit_transform(X_train['Text']).toarray()\n",
        "bow_test=bow_vec.transform(X_test['Text']).toarray()"
      ],
      "metadata": {
        "id": "0Z5HxDlfpFDU"
      },
      "execution_count": null,
      "outputs": []
    },
    {
      "cell_type": "code",
      "source": [
        "#Concatenamos con las otras variables\n",
        "X_train=np.concatenate([bow_train,np.array(X_train.loc[:, X_train.columns != 'Text'])], axis = 1)\n",
        "X_test=np.concatenate([bow_test,np.array(X_test.loc[:, X_test.columns != 'Text'])], axis = 1)"
      ],
      "metadata": {
        "id": "0LNoC4AcpoEo"
      },
      "execution_count": null,
      "outputs": []
    },
    {
      "cell_type": "code",
      "source": [
        "type(X_train)"
      ],
      "metadata": {
        "colab": {
          "base_uri": "https://localhost:8080/"
        },
        "id": "AclfcrGTO4qH",
        "outputId": "ef76c1d9-2fe5-4e05-dd6f-3a7e5ce9fa46"
      },
      "execution_count": null,
      "outputs": [
        {
          "output_type": "execute_result",
          "data": {
            "text/plain": [
              "numpy.ndarray"
            ]
          },
          "metadata": {},
          "execution_count": 47
        }
      ]
    },
    {
      "cell_type": "markdown",
      "source": [
        "## Clasificadores."
      ],
      "metadata": {
        "id": "tmuIgQzgD5Q0"
      }
    },
    {
      "cell_type": "markdown",
      "source": [
        "### RandomForest"
      ],
      "metadata": {
        "id": "jcV2gH11lmE7"
      }
    },
    {
      "cell_type": "code",
      "source": [
        "#Clasificador RandomForest\n",
        "cls=RandomForestClassifier(random_state=2)\n",
        "cls.fit(X_train,y_train)"
      ],
      "metadata": {
        "id": "Jj_oWcxoXetK",
        "colab": {
          "base_uri": "https://localhost:8080/"
        },
        "outputId": "41fad668-710c-4694-b178-c9264c8ac068"
      },
      "execution_count": null,
      "outputs": [
        {
          "output_type": "execute_result",
          "data": {
            "text/plain": [
              "RandomForestClassifier(random_state=2)"
            ]
          },
          "metadata": {},
          "execution_count": 48
        }
      ]
    },
    {
      "cell_type": "code",
      "source": [
        "y_pred=cls.predict(X_test)"
      ],
      "metadata": {
        "id": "xADET9pVOF-h"
      },
      "execution_count": null,
      "outputs": []
    },
    {
      "cell_type": "code",
      "source": [
        "*_,_,fbeta_score,_=precision_recall_fscore_support(y_test, y_pred, average='weighted',zero_division=0)\n",
        "print('f1-score:',fbeta_score)\n",
        "print('MAE:',mean_absolute_error(y_test, y_pred))"
      ],
      "metadata": {
        "id": "mcbq2Jo_XetK",
        "colab": {
          "base_uri": "https://localhost:8080/"
        },
        "outputId": "03c9721d-dae7-4e0c-99d7-22abb53d24ee"
      },
      "execution_count": null,
      "outputs": [
        {
          "output_type": "stream",
          "name": "stdout",
          "text": [
            "f1-score: 0.3547585853244235\n",
            "MAE: 0.8494623655913979\n"
          ]
        }
      ]
    },
    {
      "cell_type": "markdown",
      "source": [
        "### Procesos Gaussianos."
      ],
      "metadata": {
        "id": "L4eE04rFli7c"
      }
    },
    {
      "cell_type": "code",
      "source": [
        "from sklearn.gaussian_process import GaussianProcessClassifier"
      ],
      "metadata": {
        "id": "o8ruv4o7ElwC"
      },
      "execution_count": null,
      "outputs": []
    },
    {
      "cell_type": "code",
      "source": [
        "#Ahora probamos con procesos gaussianos\n",
        "model = GaussianProcessClassifier(random_state=2)\n",
        "model.fit(X_train,y_train)"
      ],
      "metadata": {
        "id": "0qZjawEzgjve",
        "colab": {
          "base_uri": "https://localhost:8080/"
        },
        "outputId": "9fcea8d8-069f-4629-b816-e83e6545acd8"
      },
      "execution_count": null,
      "outputs": [
        {
          "output_type": "execute_result",
          "data": {
            "text/plain": [
              "GaussianProcessClassifier(random_state=2)"
            ]
          },
          "metadata": {},
          "execution_count": 78
        }
      ]
    },
    {
      "cell_type": "code",
      "source": [
        "y_pred=model.predict(X_test)"
      ],
      "metadata": {
        "id": "LY9LVk_rTAm_"
      },
      "execution_count": null,
      "outputs": []
    },
    {
      "cell_type": "code",
      "source": [
        "y_pred=pd.DataFrame(y_pred)\n",
        "y_pred.to_csv(r'predictions_gaussianProcess.txt', header=None, index=None, sep='\\t', mode='a')"
      ],
      "metadata": {
        "id": "QuugR2cgTsB-"
      },
      "execution_count": null,
      "outputs": []
    },
    {
      "cell_type": "markdown",
      "source": [
        "Tabla Final"
      ],
      "metadata": {
        "id": "_MmIxu1rUPod"
      }
    },
    {
      "cell_type": "code",
      "source": [
        "user = pd.DataFrame(np.zeros((len(y_pred), 1)))\n",
        "user.columns = ['user']\n",
        "user = user.replace([0],['Usuario'])\n",
        "number = []\n",
        "for i in range(len(y_pred)):\n",
        "  number.append(str(i+1))\n",
        "user = user['user']+number\n",
        "user.head()"
      ],
      "metadata": {
        "colab": {
          "base_uri": "https://localhost:8080/"
        },
        "id": "41tPBIiXUpwz",
        "outputId": "20995406-18ef-418e-cbf6-1a57a1bf1071"
      },
      "execution_count": null,
      "outputs": [
        {
          "output_type": "execute_result",
          "data": {
            "text/plain": [
              "0    Usuario1\n",
              "1    Usuario2\n",
              "2    Usuario3\n",
              "3    Usuario4\n",
              "4    Usuario5\n",
              "Name: user, dtype: object"
            ]
          },
          "metadata": {},
          "execution_count": 88
        }
      ]
    },
    {
      "cell_type": "code",
      "source": [
        "taskname = pd.DataFrame(np.zeros((len(y_pred), 1)))\n",
        "taskname.columns = ['TaskName']\n",
        "taskname = taskname.replace([0],['recommendation'])\n"
      ],
      "metadata": {
        "id": "FbgwRxb5UQ3d"
      },
      "execution_count": null,
      "outputs": []
    },
    {
      "cell_type": "code",
      "source": [
        "final_data = pd.concat([taskname, test_nuevo['Usuario'], y_pred], axis=1)\n",
        "final_data.columns = ['TaskName', 'Usuario', 'Label']\n",
        "final_data.head()"
      ],
      "metadata": {
        "colab": {
          "base_uri": "https://localhost:8080/",
          "height": 206
        },
        "id": "Rw2cdzcEVZFK",
        "outputId": "e1e4dca8-8f44-49f5-afae-633cfa32b1e4"
      },
      "execution_count": null,
      "outputs": [
        {
          "output_type": "execute_result",
          "data": {
            "text/plain": [
              "         TaskName      Usuario  Label\n",
              "0  recommendation  Usuario1847      4\n",
              "1  recommendation   Usuario600      5\n",
              "2  recommendation   Usuario687      5\n",
              "3  recommendation  Usuario1219      5\n",
              "4  recommendation  Usuario1835      5"
            ],
            "text/html": [
              "\n",
              "  <div id=\"df-678918b0-c131-4ed8-9c86-a416d32e479b\">\n",
              "    <div class=\"colab-df-container\">\n",
              "      <div>\n",
              "<style scoped>\n",
              "    .dataframe tbody tr th:only-of-type {\n",
              "        vertical-align: middle;\n",
              "    }\n",
              "\n",
              "    .dataframe tbody tr th {\n",
              "        vertical-align: top;\n",
              "    }\n",
              "\n",
              "    .dataframe thead th {\n",
              "        text-align: right;\n",
              "    }\n",
              "</style>\n",
              "<table border=\"1\" class=\"dataframe\">\n",
              "  <thead>\n",
              "    <tr style=\"text-align: right;\">\n",
              "      <th></th>\n",
              "      <th>TaskName</th>\n",
              "      <th>Usuario</th>\n",
              "      <th>Label</th>\n",
              "    </tr>\n",
              "  </thead>\n",
              "  <tbody>\n",
              "    <tr>\n",
              "      <th>0</th>\n",
              "      <td>recommendation</td>\n",
              "      <td>Usuario1847</td>\n",
              "      <td>4</td>\n",
              "    </tr>\n",
              "    <tr>\n",
              "      <th>1</th>\n",
              "      <td>recommendation</td>\n",
              "      <td>Usuario600</td>\n",
              "      <td>5</td>\n",
              "    </tr>\n",
              "    <tr>\n",
              "      <th>2</th>\n",
              "      <td>recommendation</td>\n",
              "      <td>Usuario687</td>\n",
              "      <td>5</td>\n",
              "    </tr>\n",
              "    <tr>\n",
              "      <th>3</th>\n",
              "      <td>recommendation</td>\n",
              "      <td>Usuario1219</td>\n",
              "      <td>5</td>\n",
              "    </tr>\n",
              "    <tr>\n",
              "      <th>4</th>\n",
              "      <td>recommendation</td>\n",
              "      <td>Usuario1835</td>\n",
              "      <td>5</td>\n",
              "    </tr>\n",
              "  </tbody>\n",
              "</table>\n",
              "</div>\n",
              "      <button class=\"colab-df-convert\" onclick=\"convertToInteractive('df-678918b0-c131-4ed8-9c86-a416d32e479b')\"\n",
              "              title=\"Convert this dataframe to an interactive table.\"\n",
              "              style=\"display:none;\">\n",
              "        \n",
              "  <svg xmlns=\"http://www.w3.org/2000/svg\" height=\"24px\"viewBox=\"0 0 24 24\"\n",
              "       width=\"24px\">\n",
              "    <path d=\"M0 0h24v24H0V0z\" fill=\"none\"/>\n",
              "    <path d=\"M18.56 5.44l.94 2.06.94-2.06 2.06-.94-2.06-.94-.94-2.06-.94 2.06-2.06.94zm-11 1L8.5 8.5l.94-2.06 2.06-.94-2.06-.94L8.5 2.5l-.94 2.06-2.06.94zm10 10l.94 2.06.94-2.06 2.06-.94-2.06-.94-.94-2.06-.94 2.06-2.06.94z\"/><path d=\"M17.41 7.96l-1.37-1.37c-.4-.4-.92-.59-1.43-.59-.52 0-1.04.2-1.43.59L10.3 9.45l-7.72 7.72c-.78.78-.78 2.05 0 2.83L4 21.41c.39.39.9.59 1.41.59.51 0 1.02-.2 1.41-.59l7.78-7.78 2.81-2.81c.8-.78.8-2.07 0-2.86zM5.41 20L4 18.59l7.72-7.72 1.47 1.35L5.41 20z\"/>\n",
              "  </svg>\n",
              "      </button>\n",
              "      \n",
              "  <style>\n",
              "    .colab-df-container {\n",
              "      display:flex;\n",
              "      flex-wrap:wrap;\n",
              "      gap: 12px;\n",
              "    }\n",
              "\n",
              "    .colab-df-convert {\n",
              "      background-color: #E8F0FE;\n",
              "      border: none;\n",
              "      border-radius: 50%;\n",
              "      cursor: pointer;\n",
              "      display: none;\n",
              "      fill: #1967D2;\n",
              "      height: 32px;\n",
              "      padding: 0 0 0 0;\n",
              "      width: 32px;\n",
              "    }\n",
              "\n",
              "    .colab-df-convert:hover {\n",
              "      background-color: #E2EBFA;\n",
              "      box-shadow: 0px 1px 2px rgba(60, 64, 67, 0.3), 0px 1px 3px 1px rgba(60, 64, 67, 0.15);\n",
              "      fill: #174EA6;\n",
              "    }\n",
              "\n",
              "    [theme=dark] .colab-df-convert {\n",
              "      background-color: #3B4455;\n",
              "      fill: #D2E3FC;\n",
              "    }\n",
              "\n",
              "    [theme=dark] .colab-df-convert:hover {\n",
              "      background-color: #434B5C;\n",
              "      box-shadow: 0px 1px 3px 1px rgba(0, 0, 0, 0.15);\n",
              "      filter: drop-shadow(0px 1px 2px rgba(0, 0, 0, 0.3));\n",
              "      fill: #FFFFFF;\n",
              "    }\n",
              "  </style>\n",
              "\n",
              "      <script>\n",
              "        const buttonEl =\n",
              "          document.querySelector('#df-678918b0-c131-4ed8-9c86-a416d32e479b button.colab-df-convert');\n",
              "        buttonEl.style.display =\n",
              "          google.colab.kernel.accessAllowed ? 'block' : 'none';\n",
              "\n",
              "        async function convertToInteractive(key) {\n",
              "          const element = document.querySelector('#df-678918b0-c131-4ed8-9c86-a416d32e479b');\n",
              "          const dataTable =\n",
              "            await google.colab.kernel.invokeFunction('convertToInteractive',\n",
              "                                                     [key], {});\n",
              "          if (!dataTable) return;\n",
              "\n",
              "          const docLinkHtml = 'Like what you see? Visit the ' +\n",
              "            '<a target=\"_blank\" href=https://colab.research.google.com/notebooks/data_table.ipynb>data table notebook</a>'\n",
              "            + ' to learn more about interactive tables.';\n",
              "          element.innerHTML = '';\n",
              "          dataTable['output_type'] = 'display_data';\n",
              "          await google.colab.output.renderOutput(dataTable, element);\n",
              "          const docLink = document.createElement('div');\n",
              "          docLink.innerHTML = docLinkHtml;\n",
              "          element.appendChild(docLink);\n",
              "        }\n",
              "      </script>\n",
              "    </div>\n",
              "  </div>\n",
              "  "
            ]
          },
          "metadata": {},
          "execution_count": 100
        }
      ]
    },
    {
      "cell_type": "code",
      "source": [
        "final_data.to_csv(r'gaussian_pred_Erika_Cipri2.txt', header=None, index=None, sep='\\t', line_terminator ='\\n', mode='a')"
      ],
      "metadata": {
        "id": "E89SdpfQVoJy"
      },
      "execution_count": null,
      "outputs": []
    },
    {
      "cell_type": "code",
      "source": [
        "y_pred=model.predict(X_test)\n",
        "_,_,fbeta_score,_=precision_recall_fscore_support(y_test, y_pred, average='weighted',zero_division=0)\n",
        "print(fbeta_score)\n",
        "print(mean_absolute_error(y_test, y_pred))"
      ],
      "metadata": {
        "id": "VV2CfjX1Bxrr",
        "colab": {
          "base_uri": "https://localhost:8080/"
        },
        "outputId": "6850e345-5dd8-4636-f45e-9e01d72f818d"
      },
      "execution_count": null,
      "outputs": [
        {
          "output_type": "stream",
          "name": "stdout",
          "text": [
            "0.3416814833629667\n",
            "0.8279569892473119\n"
          ]
        }
      ]
    },
    {
      "cell_type": "code",
      "source": [
        "from sklearn.ensemble import AdaBoostClassifier,RandomForestClassifier\n",
        "from xgboost.sklearn import XGBClassifier"
      ],
      "metadata": {
        "id": "J1Yv78PQqeFM"
      },
      "execution_count": null,
      "outputs": []
    },
    {
      "cell_type": "markdown",
      "source": [
        "### AdaBoost"
      ],
      "metadata": {
        "id": "nYcIAnouqn1b"
      }
    },
    {
      "cell_type": "code",
      "source": [
        "#Ahora probamos con procesos gaussianos\n",
        "model = AdaBoostClassifier(random_state=2)\n",
        "model.fit(X_train,y_train)"
      ],
      "metadata": {
        "id": "pgF7yxbyqiJi",
        "colab": {
          "base_uri": "https://localhost:8080/"
        },
        "outputId": "e63d10f3-652a-4ee0-c531-71e05b262fbc"
      },
      "execution_count": null,
      "outputs": [
        {
          "output_type": "execute_result",
          "data": {
            "text/plain": [
              "AdaBoostClassifier(random_state=2)"
            ]
          },
          "metadata": {},
          "execution_count": 51
        }
      ]
    },
    {
      "cell_type": "code",
      "source": [
        "y_pred=model.predict(X_test)\n",
        "_,_,fbeta_score,_=precision_recall_fscore_support(y_test, y_pred, average='weighted',zero_division=0)\n",
        "print(fbeta_score)\n",
        "print(mean_absolute_error(y_test, y_pred))"
      ],
      "metadata": {
        "id": "xdxcfKDMqiJi",
        "colab": {
          "base_uri": "https://localhost:8080/"
        },
        "outputId": "4ab156eb-0b1f-40e8-d61d-99a2cd22ca52"
      },
      "execution_count": null,
      "outputs": [
        {
          "output_type": "stream",
          "name": "stdout",
          "text": [
            "0.35218600731750305\n",
            "0.9354838709677419\n"
          ]
        }
      ]
    },
    {
      "cell_type": "markdown",
      "source": [
        "### XGBoost"
      ],
      "metadata": {
        "id": "sb3abZf3r32E"
      }
    },
    {
      "cell_type": "code",
      "source": [
        "#Ahora probamos con procesos gaussianos\n",
        "model = XGBClassifier(random_state=2)\n",
        "model.fit(X_train,y_train)"
      ],
      "metadata": {
        "id": "o8cGObuGr32F",
        "colab": {
          "base_uri": "https://localhost:8080/"
        },
        "outputId": "0067bba3-3a4e-4c2d-81fa-469f448b3765"
      },
      "execution_count": null,
      "outputs": [
        {
          "output_type": "execute_result",
          "data": {
            "text/plain": [
              "XGBClassifier(objective='multi:softprob', random_state=2)"
            ]
          },
          "metadata": {},
          "execution_count": 54
        }
      ]
    },
    {
      "cell_type": "code",
      "source": [
        "y_pred=model.predict(X_test)\n",
        "_,_,fbeta_score,_=precision_recall_fscore_support(y_test, y_pred, average='weighted',zero_division=0)\n",
        "print(fbeta_score)\n",
        "print(mean_absolute_error(y_test, y_pred))"
      ],
      "metadata": {
        "id": "Inqbkayrr32G",
        "colab": {
          "base_uri": "https://localhost:8080/"
        },
        "outputId": "9e6b637d-328d-44e8-b149-fe01d49de6eb"
      },
      "execution_count": null,
      "outputs": [
        {
          "output_type": "stream",
          "name": "stdout",
          "text": [
            "0.35492612990646033\n",
            "0.8709677419354839\n"
          ]
        }
      ]
    },
    {
      "cell_type": "markdown",
      "source": [
        "### Elastic Net"
      ],
      "metadata": {
        "id": "awqzTr6hEEyC"
      }
    },
    {
      "cell_type": "code",
      "source": [
        "from sklearn.linear_model import ElasticNet\n",
        "\n",
        "# Create a classifier object \n",
        "classifier = ElasticNet(alpha=0.01, l1_ratio=0.9, selection='random', random_state=42)\n",
        "\n",
        "#Entrenamos\n",
        "classifier.fit(X_train,y_train)"
      ],
      "metadata": {
        "id": "i9MInSwLD_22",
        "colab": {
          "base_uri": "https://localhost:8080/"
        },
        "outputId": "234f4618-0622-4a2e-c5ce-9759978ea8f5"
      },
      "execution_count": null,
      "outputs": [
        {
          "output_type": "execute_result",
          "data": {
            "text/plain": [
              "ElasticNet(alpha=0.01, l1_ratio=0.9, random_state=42, selection='random')"
            ]
          },
          "metadata": {},
          "execution_count": 56
        }
      ]
    },
    {
      "cell_type": "code",
      "source": [
        "y_pred=classifier.predict(X_test)\n",
        "y_pred=np.rint(y_pred)\n",
        "_,_,fbeta_score,_=precision_recall_fscore_support(y_test, y_pred, average='weighted',zero_division=0)\n",
        "print(fbeta_score)\n",
        "print(mean_absolute_error(y_test, y_pred))"
      ],
      "metadata": {
        "id": "kNMjEXGPEC92",
        "colab": {
          "base_uri": "https://localhost:8080/"
        },
        "outputId": "62f01d75-f94c-445a-835c-9f91aa1bf4b5"
      },
      "execution_count": null,
      "outputs": [
        {
          "output_type": "stream",
          "name": "stdout",
          "text": [
            "0.28104745958466815\n",
            "0.8172043010752689\n"
          ]
        }
      ]
    },
    {
      "cell_type": "markdown",
      "source": [
        "### Naive Bayes"
      ],
      "metadata": {
        "id": "N8fa10YQEbgY"
      }
    },
    {
      "cell_type": "code",
      "source": [
        "from sklearn.naive_bayes import GaussianNB\n",
        "\n",
        "model = GaussianNB()\n",
        "\n",
        "model.fit(X_train,y_train)"
      ],
      "metadata": {
        "id": "P05vUy26Ed8W",
        "colab": {
          "base_uri": "https://localhost:8080/"
        },
        "outputId": "c922078f-fa65-4edd-b4dd-057a50238960"
      },
      "execution_count": null,
      "outputs": [
        {
          "output_type": "execute_result",
          "data": {
            "text/plain": [
              "GaussianNB()"
            ]
          },
          "metadata": {},
          "execution_count": 58
        }
      ]
    },
    {
      "cell_type": "code",
      "source": [
        "y_pred_2=model.predict(X_test)\n",
        "_,_,fbeta_score,_=precision_recall_fscore_support(y_test, y_pred_2, average='weighted',zero_division=0)\n",
        "print(fbeta_score)\n",
        "print(mean_absolute_error(y_test, y_pred))"
      ],
      "metadata": {
        "id": "Gt4x6FxrEmxg",
        "colab": {
          "base_uri": "https://localhost:8080/"
        },
        "outputId": "3f335754-4b3a-4004-f6c3-9d4064e42b13"
      },
      "execution_count": null,
      "outputs": [
        {
          "output_type": "stream",
          "name": "stdout",
          "text": [
            "0.3788291146285537\n",
            "0.8172043010752689\n"
          ]
        }
      ]
    },
    {
      "cell_type": "markdown",
      "source": [
        "### ExtraTree Regressor"
      ],
      "metadata": {
        "id": "MoJM3YOnEo5N"
      }
    },
    {
      "cell_type": "code",
      "source": [
        "from sklearn.ensemble import ExtraTreesRegressor\n",
        "\n",
        "model = ExtraTreesRegressor(random_state=2)\n",
        "model.fit(X_train,y_train)"
      ],
      "metadata": {
        "id": "NjRUEqA-Ev2c",
        "colab": {
          "base_uri": "https://localhost:8080/"
        },
        "outputId": "3fdc4265-38f1-4a22-ce0c-bd39953e66ec"
      },
      "execution_count": null,
      "outputs": [
        {
          "output_type": "execute_result",
          "data": {
            "text/plain": [
              "ExtraTreesRegressor(random_state=2)"
            ]
          },
          "metadata": {},
          "execution_count": 60
        }
      ]
    },
    {
      "cell_type": "code",
      "source": [
        "y_pred=model.predict(X_test)\n",
        "y_pred=np.rint(y_pred)\n",
        "_,_,fbeta_score,_=precision_recall_fscore_support(y_test, y_pred, average='weighted',zero_division=0)\n",
        "print(fbeta_score)\n",
        "print(mean_absolute_error(y_test, y_pred))"
      ],
      "metadata": {
        "id": "TNJ6fsNeFMBL",
        "colab": {
          "base_uri": "https://localhost:8080/"
        },
        "outputId": "5b118ae9-18e4-4a54-acae-15d1f31a15c2"
      },
      "execution_count": null,
      "outputs": [
        {
          "output_type": "stream",
          "name": "stdout",
          "text": [
            "0.3435291222685226\n",
            "0.8602150537634409\n"
          ]
        }
      ]
    },
    {
      "cell_type": "markdown",
      "source": [
        "## MLP"
      ],
      "metadata": {
        "id": "fxVh7mjICSp4"
      }
    },
    {
      "cell_type": "code",
      "source": [
        "from sklearn.neural_network import MLPClassifier"
      ],
      "metadata": {
        "id": "X_wIX9_0CSp5"
      },
      "execution_count": null,
      "outputs": []
    },
    {
      "cell_type": "code",
      "source": [
        "model= MLPClassifier(random_state=2)"
      ],
      "metadata": {
        "id": "bDmKJdskCSp5"
      },
      "execution_count": null,
      "outputs": []
    },
    {
      "cell_type": "code",
      "source": [
        "model.fit(X_train,y_train)"
      ],
      "metadata": {
        "id": "i2_-HFlmCSp6"
      },
      "execution_count": null,
      "outputs": []
    },
    {
      "cell_type": "code",
      "source": [
        "y_pred=model.predict(X_test)\n",
        "_,_,fbeta_score,_=precision_recall_fscore_support(y_test, y_pred, average='weighted',zero_division=0)\n",
        "print(fbeta_score)\n",
        "print(mean_absolute_error(y_test, y_pred))"
      ],
      "metadata": {
        "id": "LoksyXHXCSp6"
      },
      "execution_count": null,
      "outputs": []
    },
    {
      "cell_type": "markdown",
      "source": [
        "#2nd run"
      ],
      "metadata": {
        "id": "MdsK91lFUC2N"
      }
    },
    {
      "cell_type": "markdown",
      "source": [
        "En esta segunda estrategia, hacemos bow para cada una de las siguientes columnas de texto: opinion, place e info lugar, las matrices obtenidas son concatenadas con las otras variables categóricas y finalmente se pasan por un clasificador."
      ],
      "metadata": {
        "id": "pshIdezL03uP"
      }
    },
    {
      "cell_type": "code",
      "source": [
        "from sklearn.feature_extraction.text import CountVectorizer, TfidfVectorizer\n",
        "from sklearn.preprocessing import normalize\n",
        "from sklearn.metrics import accuracy_score,precision_score, recall_score, f1_score\n",
        "from sklearn.ensemble import RandomForestClassifier\n",
        "from sklearn.model_selection import StratifiedKFold, KFold\n",
        "from sklearn.feature_selection import SelectKBest, chi2\n",
        "from sklearn import svm\n",
        "from sklearn.model_selection import train_test_split\n",
        "from sklearn.metrics import confusion_matrix, precision_recall_fscore_support, roc_auc_score\n",
        "from sklearn.model_selection import GridSearchCV\n",
        "from sklearn.metrics import mean_absolute_error"
      ],
      "metadata": {
        "id": "aSB8Yfyk83QA"
      },
      "execution_count": null,
      "outputs": []
    },
    {
      "cell_type": "markdown",
      "source": [
        "BOW TFIDF"
      ],
      "metadata": {
        "id": "-bXEVL68XfRF"
      }
    },
    {
      "cell_type": "code",
      "source": [
        "bow_vec=CountVectorizer(ngram_range=(2,2))"
      ],
      "metadata": {
        "id": "PRgVhLGXVDn8"
      },
      "execution_count": null,
      "outputs": []
    },
    {
      "cell_type": "code",
      "source": [
        "#bow de opiniones\n",
        "bow1=bow_vec.fit_transform(df_nuevo['Opinion']).toarray()"
      ],
      "metadata": {
        "id": "yZ6FKI0qWTmA"
      },
      "execution_count": null,
      "outputs": []
    },
    {
      "cell_type": "code",
      "source": [
        "bow1.shape"
      ],
      "metadata": {
        "colab": {
          "base_uri": "https://localhost:8080/"
        },
        "id": "OApxe6HVU2zG",
        "outputId": "56fb2e5b-d412-41e0-ab6d-d6664bfa46a7"
      },
      "execution_count": null,
      "outputs": [
        {
          "output_type": "execute_result",
          "data": {
            "text/plain": [
              "(922, 126948)"
            ]
          },
          "metadata": {},
          "execution_count": 65
        }
      ]
    },
    {
      "cell_type": "code",
      "source": [
        "#bow de place\n",
        "bow2=bow_vec.fit_transform(df_nuevo['Place']).toarray()"
      ],
      "metadata": {
        "id": "jYxoB17DU-WK"
      },
      "execution_count": null,
      "outputs": []
    },
    {
      "cell_type": "code",
      "source": [
        "bow2.shape"
      ],
      "metadata": {
        "colab": {
          "base_uri": "https://localhost:8080/"
        },
        "id": "HgzTstUoVO1N",
        "outputId": "d08467d4-b945-40ab-9bf8-b3b497bb950e"
      },
      "execution_count": null,
      "outputs": [
        {
          "output_type": "execute_result",
          "data": {
            "text/plain": [
              "(922, 27)"
            ]
          },
          "metadata": {},
          "execution_count": 67
        }
      ]
    },
    {
      "cell_type": "code",
      "source": [
        "#bow info_lugar\n",
        "bow3=bow_vec.fit_transform(df_nuevo['info_lugar']).toarray()"
      ],
      "metadata": {
        "id": "wuetaTYwW1Uk"
      },
      "execution_count": null,
      "outputs": []
    },
    {
      "cell_type": "code",
      "source": [
        "bow3.shape"
      ],
      "metadata": {
        "colab": {
          "base_uri": "https://localhost:8080/"
        },
        "id": "YLkoF2FtXDnS",
        "outputId": "a1e94e2c-01e1-4c38-ed5e-6ee8de9c8c86"
      },
      "execution_count": null,
      "outputs": [
        {
          "output_type": "execute_result",
          "data": {
            "text/plain": [
              "(922, 589)"
            ]
          },
          "metadata": {},
          "execution_count": 69
        }
      ]
    },
    {
      "cell_type": "code",
      "source": [
        "df_nuevo.keys()"
      ],
      "metadata": {
        "colab": {
          "base_uri": "https://localhost:8080/"
        },
        "id": "5lcEgtoLDmzJ",
        "outputId": "dc27ba37-bcd6-4fdd-9767-efa73c060275"
      },
      "execution_count": null,
      "outputs": [
        {
          "output_type": "execute_result",
          "data": {
            "text/plain": [
              "Index(['Usuario', 'Opinion', 'Gender', 'Type', 'Label', 'Location', 'Place',\n",
              "       'MeanLabel', 'GlobalLabel', 'info_lugar', 'Description'],\n",
              "      dtype='object')"
            ]
          },
          "metadata": {},
          "execution_count": 70
        }
      ]
    },
    {
      "cell_type": "code",
      "source": [
        "#Creamos la matriz de datos\n",
        "train_df=df_nuevo.drop(columns=['Usuario', 'Opinion','Place','info_lugar'])"
      ],
      "metadata": {
        "id": "gTymHQLlXG1b"
      },
      "execution_count": null,
      "outputs": []
    },
    {
      "cell_type": "code",
      "source": [
        "train_df=train_df.to_numpy()"
      ],
      "metadata": {
        "id": "yHMY0a4ibTOK"
      },
      "execution_count": null,
      "outputs": []
    },
    {
      "cell_type": "code",
      "source": [
        "train_df.shape"
      ],
      "metadata": {
        "colab": {
          "base_uri": "https://localhost:8080/"
        },
        "id": "sX_zIzcfeiow",
        "outputId": "5b6e68ae-7df6-4b41-d413-5322c9878b91"
      },
      "execution_count": null,
      "outputs": [
        {
          "output_type": "execute_result",
          "data": {
            "text/plain": [
              "(922, 7)"
            ]
          },
          "metadata": {},
          "execution_count": 73
        }
      ]
    },
    {
      "cell_type": "code",
      "source": [
        "bow1.shape"
      ],
      "metadata": {
        "colab": {
          "base_uri": "https://localhost:8080/"
        },
        "id": "xZbmVOHwfS81",
        "outputId": "6e14f1a3-4a51-4345-b450-efdf34bff067"
      },
      "execution_count": null,
      "outputs": [
        {
          "output_type": "execute_result",
          "data": {
            "text/plain": [
              "(922, 126948)"
            ]
          },
          "metadata": {},
          "execution_count": 74
        }
      ]
    },
    {
      "cell_type": "code",
      "source": [
        "bow2.shape"
      ],
      "metadata": {
        "colab": {
          "base_uri": "https://localhost:8080/"
        },
        "id": "2VkyNAIIfUnS",
        "outputId": "34797af0-57c4-4297-88c6-3ffd87bdf44b"
      },
      "execution_count": null,
      "outputs": [
        {
          "output_type": "execute_result",
          "data": {
            "text/plain": [
              "(922, 27)"
            ]
          },
          "metadata": {},
          "execution_count": 75
        }
      ]
    },
    {
      "cell_type": "code",
      "source": [
        "bow3.shape"
      ],
      "metadata": {
        "colab": {
          "base_uri": "https://localhost:8080/"
        },
        "id": "gQBwXZYhfWJH",
        "outputId": "fccd7798-06c8-4bb5-9b1e-59dbf4935fd5"
      },
      "execution_count": null,
      "outputs": [
        {
          "output_type": "execute_result",
          "data": {
            "text/plain": [
              "(922, 589)"
            ]
          },
          "metadata": {},
          "execution_count": 76
        }
      ]
    },
    {
      "cell_type": "code",
      "source": [
        "train_df=np.concatenate([train_df,bow1,bow2, bow3], axis=1)"
      ],
      "metadata": {
        "id": "OoaOyJ3-fDt7"
      },
      "execution_count": null,
      "outputs": []
    },
    {
      "cell_type": "code",
      "source": [
        "train_df.shape"
      ],
      "metadata": {
        "colab": {
          "base_uri": "https://localhost:8080/"
        },
        "id": "ZJ5Fx2zLfePb",
        "outputId": "5de9989f-fdbf-46fe-b9ae-8a6b7cd2d276"
      },
      "execution_count": null,
      "outputs": [
        {
          "output_type": "execute_result",
          "data": {
            "text/plain": [
              "(922, 127571)"
            ]
          },
          "metadata": {},
          "execution_count": 78
        }
      ]
    },
    {
      "cell_type": "code",
      "source": [
        "X_train, X_test, y_train, y_test = train_test_split(train_df,df_nuevo['Label'], test_size=0.2)"
      ],
      "metadata": {
        "id": "0qaeRRdfXetJ"
      },
      "execution_count": null,
      "outputs": []
    },
    {
      "cell_type": "code",
      "source": [
        "print(X_train.shape)\n",
        "print(y_train.shape)"
      ],
      "metadata": {
        "colab": {
          "base_uri": "https://localhost:8080/"
        },
        "id": "FfrSzqnCfujA",
        "outputId": "587400c6-bcfc-487d-a555-53872dd1edff"
      },
      "execution_count": null,
      "outputs": [
        {
          "output_type": "stream",
          "name": "stdout",
          "text": [
            "(737, 127571)\n",
            "(737,)\n"
          ]
        }
      ]
    },
    {
      "cell_type": "code",
      "source": [
        "print(X_test.shape)\n",
        "print(y_test.shape)"
      ],
      "metadata": {
        "id": "ZpWPZ0PeZAn8",
        "outputId": "e8c748a6-c86d-49f4-9e0d-f8548a189cad",
        "colab": {
          "base_uri": "https://localhost:8080/"
        }
      },
      "execution_count": null,
      "outputs": [
        {
          "output_type": "stream",
          "name": "stdout",
          "text": [
            "(185, 127571)\n",
            "(185,)\n"
          ]
        }
      ]
    },
    {
      "cell_type": "code",
      "source": [
        "np.argwhere(np.isnan(X_train))"
      ],
      "metadata": {
        "id": "OCdHEpaNf4qZ",
        "colab": {
          "base_uri": "https://localhost:8080/"
        },
        "outputId": "687b97d5-d2ab-44a3-f1c6-5f2986f43283"
      },
      "execution_count": null,
      "outputs": [
        {
          "output_type": "execute_result",
          "data": {
            "text/plain": [
              "array([], shape=(0, 2), dtype=int64)"
            ]
          },
          "metadata": {},
          "execution_count": 82
        }
      ]
    },
    {
      "cell_type": "code",
      "source": [
        "#Ponemos 0 en los nan\n",
        "X_train[np.argwhere(np.isnan(X_train))]=0\n",
        "X_test[np.argwhere(np.isnan(X_test))]=0"
      ],
      "metadata": {
        "id": "VMe9fKlFgEmx"
      },
      "execution_count": null,
      "outputs": []
    },
    {
      "cell_type": "markdown",
      "source": [
        "### RandomForest"
      ],
      "metadata": {
        "id": "f_M8aU0m0LZ2"
      }
    },
    {
      "cell_type": "code",
      "source": [
        "#Clasificador RandomForest\n",
        "cls=RandomForestClassifier(random_state=2)\n",
        "cls.fit(X_train,y_train)"
      ],
      "metadata": {
        "colab": {
          "base_uri": "https://localhost:8080/"
        },
        "outputId": "b7980c56-d490-442f-bda1-32526f54d286",
        "id": "NbxqV-UL0LZ3"
      },
      "execution_count": null,
      "outputs": [
        {
          "output_type": "execute_result",
          "data": {
            "text/plain": [
              "RandomForestClassifier(random_state=2)"
            ]
          },
          "metadata": {},
          "execution_count": 84
        }
      ]
    },
    {
      "cell_type": "code",
      "source": [
        "y_pred=model.predict(X_test)\n",
        "_,_,fbeta_score,_=precision_recall_fscore_support(y_test, y_pred, average='weighted',zero_division=0)\n",
        "print(fbeta_score)\n",
        "print(mean_absolute_error(y_test, y_pred))"
      ],
      "metadata": {
        "id": "xYuHDlqw8jhC"
      },
      "execution_count": null,
      "outputs": []
    },
    {
      "cell_type": "markdown",
      "source": [
        "### Procesos Gaussianos."
      ],
      "metadata": {
        "id": "flr5DiYV0LZ6"
      }
    },
    {
      "cell_type": "code",
      "source": [
        "from sklearn.gaussian_process import GaussianProcessClassifier"
      ],
      "metadata": {
        "id": "W35erStH0LZ6"
      },
      "execution_count": null,
      "outputs": []
    },
    {
      "cell_type": "code",
      "source": [
        "#Ahora probamos con procesos gaussianos\n",
        "model = GaussianProcessClassifier(random_state=2)\n",
        "model.fit(X_train,y_train)"
      ],
      "metadata": {
        "colab": {
          "base_uri": "https://localhost:8080/"
        },
        "outputId": "9537bd10-d687-4b6e-9804-76cf6b02a8c8",
        "id": "DTKzpY1M0LZ7"
      },
      "execution_count": null,
      "outputs": [
        {
          "output_type": "execute_result",
          "data": {
            "text/plain": [
              "GaussianProcessClassifier(random_state=2)"
            ]
          },
          "metadata": {},
          "execution_count": 87
        }
      ]
    },
    {
      "cell_type": "code",
      "source": [
        "y_pred=model.predict(X_test)\n",
        "_,_,fbeta_score,_=precision_recall_fscore_support(y_test, y_pred, average='weighted',zero_division=0)\n",
        "print(fbeta_score)\n",
        "print(mean_absolute_error(y_test, y_pred))"
      ],
      "metadata": {
        "colab": {
          "base_uri": "https://localhost:8080/"
        },
        "outputId": "c2059dac-db23-4d03-b190-243d0a7cdf87",
        "id": "EoONjBrX0LZ7"
      },
      "execution_count": null,
      "outputs": [
        {
          "output_type": "stream",
          "name": "stdout",
          "text": [
            "0.7050615425631636\n",
            "0.3837837837837838\n"
          ]
        }
      ]
    },
    {
      "cell_type": "code",
      "source": [
        "from sklearn.ensemble import AdaBoostClassifier,RandomForestClassifier\n",
        "from xgboost.sklearn import XGBClassifier"
      ],
      "metadata": {
        "id": "MG9pER460LZ9"
      },
      "execution_count": null,
      "outputs": []
    },
    {
      "cell_type": "markdown",
      "source": [
        "AdaBoost"
      ],
      "metadata": {
        "id": "4Gtxb8xo0LZ9"
      }
    },
    {
      "cell_type": "code",
      "source": [
        "#Ahora probamos con procesos gaussianos\n",
        "model = AdaBoostClassifier(random_state=2)\n",
        "model.fit(X_train,y_train)"
      ],
      "metadata": {
        "colab": {
          "base_uri": "https://localhost:8080/"
        },
        "outputId": "933e46c4-583c-4263-fafc-9a3b9e873910",
        "id": "9L4-kCJV0LZ-"
      },
      "execution_count": null,
      "outputs": [
        {
          "output_type": "execute_result",
          "data": {
            "text/plain": [
              "AdaBoostClassifier(random_state=2)"
            ]
          },
          "metadata": {},
          "execution_count": 90
        }
      ]
    },
    {
      "cell_type": "code",
      "source": [
        "y_pred_=model.predict(X_test)\n",
        "_,_,fbeta_score,_=precision_recall_fscore_support(y_test, y_pred_, average='weighted',zero_division=0)\n",
        "print(fbeta_score)\n",
        "print(mean_absolute_error(y_test, y_pred_))"
      ],
      "metadata": {
        "colab": {
          "base_uri": "https://localhost:8080/"
        },
        "outputId": "4b69365c-1266-42dd-aacd-6eb0511b1ee3",
        "id": "fJFyCbvE0LZ-"
      },
      "execution_count": null,
      "outputs": [
        {
          "output_type": "stream",
          "name": "stdout",
          "text": [
            "0.8251373324544055\n",
            "0.15135135135135136\n"
          ]
        }
      ]
    },
    {
      "cell_type": "markdown",
      "source": [
        "XGBoost"
      ],
      "metadata": {
        "id": "6fhgGhNc0LaA"
      }
    },
    {
      "cell_type": "code",
      "source": [
        "#Ahora probamos con procesos gaussianos\n",
        "model = XGBClassifier(random_state=2)\n",
        "model.fit(X_train,y_train)"
      ],
      "metadata": {
        "colab": {
          "base_uri": "https://localhost:8080/"
        },
        "outputId": "4a75fdde-bedd-485a-c987-979681eaf3f5",
        "id": "AqoSlVlU0LaA"
      },
      "execution_count": null,
      "outputs": [
        {
          "output_type": "execute_result",
          "data": {
            "text/plain": [
              "XGBClassifier(objective='multi:softprob', random_state=2)"
            ]
          },
          "metadata": {},
          "execution_count": 104
        }
      ]
    },
    {
      "cell_type": "code",
      "source": [
        "y_pred_2=model.predict(X_test)"
      ],
      "metadata": {
        "id": "XJeigFTJWEXh"
      },
      "execution_count": null,
      "outputs": []
    },
    {
      "cell_type": "code",
      "source": [
        "y_pred_2=pd.DataFrame(y_pred_2)"
      ],
      "metadata": {
        "id": "JrS-ZuKGat9w"
      },
      "execution_count": null,
      "outputs": []
    },
    {
      "cell_type": "code",
      "source": [
        "final_data = pd.concat([taskname, test_nuevo['Usuario'], y_pred_2], axis=1)\n",
        "final_data.columns = ['TaskName', 'Usuario', 'Label']\n",
        "final_data.head()"
      ],
      "metadata": {
        "colab": {
          "base_uri": "https://localhost:8080/",
          "height": 206
        },
        "outputId": "595f4dee-16e0-446f-a912-b4832b6cce1d",
        "id": "yD9RQTdJWNYO"
      },
      "execution_count": null,
      "outputs": [
        {
          "output_type": "execute_result",
          "data": {
            "text/plain": [
              "         TaskName      Usuario  Label\n",
              "0  recommendation  Usuario1847      4\n",
              "1  recommendation   Usuario600      5\n",
              "2  recommendation   Usuario687      5\n",
              "3  recommendation  Usuario1219      5\n",
              "4  recommendation  Usuario1835      5"
            ],
            "text/html": [
              "\n",
              "  <div id=\"df-df41c822-7df5-421c-aa13-c81fe5a20e6e\">\n",
              "    <div class=\"colab-df-container\">\n",
              "      <div>\n",
              "<style scoped>\n",
              "    .dataframe tbody tr th:only-of-type {\n",
              "        vertical-align: middle;\n",
              "    }\n",
              "\n",
              "    .dataframe tbody tr th {\n",
              "        vertical-align: top;\n",
              "    }\n",
              "\n",
              "    .dataframe thead th {\n",
              "        text-align: right;\n",
              "    }\n",
              "</style>\n",
              "<table border=\"1\" class=\"dataframe\">\n",
              "  <thead>\n",
              "    <tr style=\"text-align: right;\">\n",
              "      <th></th>\n",
              "      <th>TaskName</th>\n",
              "      <th>Usuario</th>\n",
              "      <th>Label</th>\n",
              "    </tr>\n",
              "  </thead>\n",
              "  <tbody>\n",
              "    <tr>\n",
              "      <th>0</th>\n",
              "      <td>recommendation</td>\n",
              "      <td>Usuario1847</td>\n",
              "      <td>4</td>\n",
              "    </tr>\n",
              "    <tr>\n",
              "      <th>1</th>\n",
              "      <td>recommendation</td>\n",
              "      <td>Usuario600</td>\n",
              "      <td>5</td>\n",
              "    </tr>\n",
              "    <tr>\n",
              "      <th>2</th>\n",
              "      <td>recommendation</td>\n",
              "      <td>Usuario687</td>\n",
              "      <td>5</td>\n",
              "    </tr>\n",
              "    <tr>\n",
              "      <th>3</th>\n",
              "      <td>recommendation</td>\n",
              "      <td>Usuario1219</td>\n",
              "      <td>5</td>\n",
              "    </tr>\n",
              "    <tr>\n",
              "      <th>4</th>\n",
              "      <td>recommendation</td>\n",
              "      <td>Usuario1835</td>\n",
              "      <td>5</td>\n",
              "    </tr>\n",
              "  </tbody>\n",
              "</table>\n",
              "</div>\n",
              "      <button class=\"colab-df-convert\" onclick=\"convertToInteractive('df-df41c822-7df5-421c-aa13-c81fe5a20e6e')\"\n",
              "              title=\"Convert this dataframe to an interactive table.\"\n",
              "              style=\"display:none;\">\n",
              "        \n",
              "  <svg xmlns=\"http://www.w3.org/2000/svg\" height=\"24px\"viewBox=\"0 0 24 24\"\n",
              "       width=\"24px\">\n",
              "    <path d=\"M0 0h24v24H0V0z\" fill=\"none\"/>\n",
              "    <path d=\"M18.56 5.44l.94 2.06.94-2.06 2.06-.94-2.06-.94-.94-2.06-.94 2.06-2.06.94zm-11 1L8.5 8.5l.94-2.06 2.06-.94-2.06-.94L8.5 2.5l-.94 2.06-2.06.94zm10 10l.94 2.06.94-2.06 2.06-.94-2.06-.94-.94-2.06-.94 2.06-2.06.94z\"/><path d=\"M17.41 7.96l-1.37-1.37c-.4-.4-.92-.59-1.43-.59-.52 0-1.04.2-1.43.59L10.3 9.45l-7.72 7.72c-.78.78-.78 2.05 0 2.83L4 21.41c.39.39.9.59 1.41.59.51 0 1.02-.2 1.41-.59l7.78-7.78 2.81-2.81c.8-.78.8-2.07 0-2.86zM5.41 20L4 18.59l7.72-7.72 1.47 1.35L5.41 20z\"/>\n",
              "  </svg>\n",
              "      </button>\n",
              "      \n",
              "  <style>\n",
              "    .colab-df-container {\n",
              "      display:flex;\n",
              "      flex-wrap:wrap;\n",
              "      gap: 12px;\n",
              "    }\n",
              "\n",
              "    .colab-df-convert {\n",
              "      background-color: #E8F0FE;\n",
              "      border: none;\n",
              "      border-radius: 50%;\n",
              "      cursor: pointer;\n",
              "      display: none;\n",
              "      fill: #1967D2;\n",
              "      height: 32px;\n",
              "      padding: 0 0 0 0;\n",
              "      width: 32px;\n",
              "    }\n",
              "\n",
              "    .colab-df-convert:hover {\n",
              "      background-color: #E2EBFA;\n",
              "      box-shadow: 0px 1px 2px rgba(60, 64, 67, 0.3), 0px 1px 3px 1px rgba(60, 64, 67, 0.15);\n",
              "      fill: #174EA6;\n",
              "    }\n",
              "\n",
              "    [theme=dark] .colab-df-convert {\n",
              "      background-color: #3B4455;\n",
              "      fill: #D2E3FC;\n",
              "    }\n",
              "\n",
              "    [theme=dark] .colab-df-convert:hover {\n",
              "      background-color: #434B5C;\n",
              "      box-shadow: 0px 1px 3px 1px rgba(0, 0, 0, 0.15);\n",
              "      filter: drop-shadow(0px 1px 2px rgba(0, 0, 0, 0.3));\n",
              "      fill: #FFFFFF;\n",
              "    }\n",
              "  </style>\n",
              "\n",
              "      <script>\n",
              "        const buttonEl =\n",
              "          document.querySelector('#df-df41c822-7df5-421c-aa13-c81fe5a20e6e button.colab-df-convert');\n",
              "        buttonEl.style.display =\n",
              "          google.colab.kernel.accessAllowed ? 'block' : 'none';\n",
              "\n",
              "        async function convertToInteractive(key) {\n",
              "          const element = document.querySelector('#df-df41c822-7df5-421c-aa13-c81fe5a20e6e');\n",
              "          const dataTable =\n",
              "            await google.colab.kernel.invokeFunction('convertToInteractive',\n",
              "                                                     [key], {});\n",
              "          if (!dataTable) return;\n",
              "\n",
              "          const docLinkHtml = 'Like what you see? Visit the ' +\n",
              "            '<a target=\"_blank\" href=https://colab.research.google.com/notebooks/data_table.ipynb>data table notebook</a>'\n",
              "            + ' to learn more about interactive tables.';\n",
              "          element.innerHTML = '';\n",
              "          dataTable['output_type'] = 'display_data';\n",
              "          await google.colab.output.renderOutput(dataTable, element);\n",
              "          const docLink = document.createElement('div');\n",
              "          docLink.innerHTML = docLinkHtml;\n",
              "          element.appendChild(docLink);\n",
              "        }\n",
              "      </script>\n",
              "    </div>\n",
              "  </div>\n",
              "  "
            ]
          },
          "metadata": {},
          "execution_count": 108
        }
      ]
    },
    {
      "cell_type": "code",
      "source": [
        "final_data.to_csv(r'XGBoost_pred_Erika_Cipri.txt', header=None, index=None, sep='\\t', line_terminator ='\\n', mode='a')"
      ],
      "metadata": {
        "id": "ToGZDKubWNYP"
      },
      "execution_count": null,
      "outputs": []
    },
    {
      "cell_type": "code",
      "source": [
        "y_pred_2=model.predict(X_test)\n",
        "_,_,fbeta_score,_=precision_recall_fscore_support(y_test, y_pred_2, average='weighted',zero_division=0)\n",
        "print(fbeta_score)\n",
        "print(mean_absolute_error(y_test, y_pred_2))"
      ],
      "metadata": {
        "colab": {
          "base_uri": "https://localhost:8080/"
        },
        "outputId": "92f87ee3-7ed2-4d4e-97e1-73643ffbe0d0",
        "id": "Z_lT9mif0LaB"
      },
      "execution_count": null,
      "outputs": [
        {
          "output_type": "stream",
          "name": "stdout",
          "text": [
            "1.0\n",
            "0.0\n"
          ]
        }
      ]
    },
    {
      "cell_type": "markdown",
      "source": [
        "## MLP"
      ],
      "metadata": {
        "id": "clrc1Hm2JPW8"
      }
    },
    {
      "cell_type": "code",
      "source": [
        "from sklearn.neural_network import MLPClassifier"
      ],
      "metadata": {
        "id": "tp-3r_PdJPW-"
      },
      "execution_count": null,
      "outputs": []
    },
    {
      "cell_type": "code",
      "source": [
        "model= MLPClassifier(random_state=2)"
      ],
      "metadata": {
        "id": "Xe-t33aOJPW_"
      },
      "execution_count": null,
      "outputs": []
    },
    {
      "cell_type": "code",
      "source": [
        "model.fit(X_train,y_train)"
      ],
      "metadata": {
        "id": "0R6Kq5WOJPW_",
        "colab": {
          "base_uri": "https://localhost:8080/"
        },
        "outputId": "0e2206c6-9e80-4dac-e491-bcfa200e669f"
      },
      "execution_count": null,
      "outputs": [
        {
          "output_type": "stream",
          "name": "stderr",
          "text": [
            "/usr/local/lib/python3.7/dist-packages/sklearn/neural_network/_multilayer_perceptron.py:699: UserWarning: Training interrupted by user.\n",
            "  warnings.warn(\"Training interrupted by user.\")\n"
          ]
        },
        {
          "output_type": "execute_result",
          "data": {
            "text/plain": [
              "MLPClassifier(random_state=2)"
            ]
          },
          "metadata": {},
          "execution_count": 96
        }
      ]
    },
    {
      "cell_type": "code",
      "source": [
        "y_pred=model.predict(X_test)\n",
        "_,_,fbeta_score,_=precision_recall_fscore_support(y_test, y_pred, average='weighted',zero_division=0)\n",
        "print(fbeta_score)\n",
        "print(mean_absolute_error(y_test, y_pred))"
      ],
      "metadata": {
        "id": "iVOMiewpJPW_",
        "colab": {
          "base_uri": "https://localhost:8080/"
        },
        "outputId": "69b5aa2b-7df3-409f-f906-a8b787e76a29"
      },
      "execution_count": null,
      "outputs": [
        {
          "output_type": "stream",
          "name": "stdout",
          "text": [
            "0.6771692517798417\n",
            "0.40540540540540543\n"
          ]
        }
      ]
    }
  ]
}